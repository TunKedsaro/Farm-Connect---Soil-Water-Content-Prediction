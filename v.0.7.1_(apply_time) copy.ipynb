{
  "cells": [
    {
      "cell_type": "code",
      "execution_count": 1,
      "metadata": {
        "id": "OuZVhg09WJP4"
      },
      "outputs": [],
      "source": [
        "# import autosklearn.regression\n",
        "import sklearn.model_selection\n",
        "import sklearn.metrics\n",
        "import os\n",
        "import pandas as pd\n",
        "from sklearn.ensemble import RandomForestRegressor\n",
        "from sklearn.feature_selection import RFECV\n",
        "import xgboost as xgb\n",
        "from sklearn.model_selection import GridSearchCV\n",
        "\n",
        "import warnings\n",
        "warnings.filterwarnings('ignore')\n",
        "warnings.simplefilter('ignore')"
      ]
    },
    {
      "cell_type": "markdown",
      "metadata": {
        "id": "s6811Aw9WJP6"
      },
      "source": [
        "<h2>02 Data Collection</h2>"
      ]
    },
    {
      "cell_type": "code",
      "execution_count": 2,
      "metadata": {
        "colab": {
          "base_uri": "https://localhost:8080/",
          "height": 591
        },
        "id": "zXHPNV-sWJP8",
        "outputId": "fb64d94f-9db8-4cf8-e770-2cc23cee9623"
      },
      "outputs": [
        {
          "name": "stdout",
          "output_type": "stream",
          "text": [
            "['index', 'time', '1Air Humidity', '1AirTemperature', '1LightHigh', '1LightLow', '11Rain Accumulate (mm)', '11Rain count', '12WindSpeed', '13WindDirection', '23SoilWC ค.ชื้นดิน', '23SoilTemp.อุณหภูมิดิน', '23SoilEC', '23SoilpH', '26N', '26P', '26K', '29SoilTension', 'flow1']\n",
            "['index', 'time', '1Air Humidity', '1AirTemperature', '1LightHigh', '1LightLow', '11Rain Accumulate (mm)', '11Rain count', '12WindSpeed', '13WindDirection', '23SoilTemp.อุณหภูมิดิน', '23SoilEC', '23SoilpH', '26N', '26P', '26K', '29SoilTension', 'flow1']\n",
            "['index', 'time', '1Air Humidity', '1AirTemperature', '1LightHigh', '1LightLow', '11Rain Accumulate (mm)', '11Rain count', '12WindSpeed', '13WindDirection', '23SoilWC ค.ชื้นดิน', '23SoilTemp.อุณหภูมิดิน', '23SoilEC', '23SoilpH', '26N', '26P', '26K', '29SoilTension', 'flow1']\n",
            "['index', 'time', '1Air Humidity', '1AirTemperature', '1LightHigh', '1LightLow', '11Rain Accumulate (mm)', '11Rain count', '12WindSpeed', '13WindDirection', '23SoilWC ค.ชื้นดิน', '23SoilTemp.อุณหภูมิดิน', '23SoilEC', '23SoilpH', '29SoilTension', 'flow1', '26N', '26P', '26K']\n",
            "['index', 'time', '1Air Humidity', '1AirTemperature', '1LightHigh', '1LightLow', '11Rain Accumulate (mm)', '11Rain count', '12WindSpeed', '13WindDirection', '23SoilWC ค.ชื้นดิน', '23SoilTemp.อุณหภูมิดิน', '23SoilEC', '23SoilpH', '26N', '26P', '26K', '29SoilTension', 'flow1']\n",
            "['index', 'time', '1Air Humidity', '1AirTemperature', '1LightHigh', '1LightLow', '11Rain Accumulate (mm)', '11Rain count', '12WindSpeed', '13WindDirection', '23SoilWC ค.ชื้นดิน', '23SoilTemp.อุณหภูมิดิน', '23SoilEC', '23SoilpH', '26N', '26P', '26K', '29SoilTension', 'flow1']\n",
            "['index', 'time', '1Air Humidity', '1AirTemperature', '1LightHigh', '1LightLow', '11Rain Accumulate (mm)', '11Rain count', '12WindSpeed', '13WindDirection', '23SoilWC ค.ชื้นดิน', '23SoilTemp.อุณหภูมิดิน', '23SoilEC', '23SoilpH', '26N', '26P', '26K', '29SoilTension', 'flow1']\n",
            "['index', 'time', '1Air Humidity', '1AirTemperature', '1LightHigh', '1LightLow', '11Rain Accumulate (mm)', '11Rain count', '12WindSpeed', '13WindDirection', '23SoilWC ค.ชื้นดิน', '23SoilTemp.อุณหภูมิดิน', '23SoilEC', '23SoilpH', '26N', '26P', '26K', '29SoilTension', 'flow1']\n",
            "['index', 'time', '1Air Humidity', '1AirTemperature', '1LightHigh', '1LightLow', '11Rain Accumulate (mm)', '11Rain count', '12WindSpeed', '13WindDirection', '23SoilTemp.อุณหภูมิดิน', '23SoilEC', '23SoilpH', '26N', '26P', '26K', '29SoilTension', 'flow1']\n",
            "['index', 'time', '1Air Humidity', '1AirTemperature', '1LightHigh', '1LightLow', '11Rain Accumulate (mm)', '11Rain count', '12WindSpeed', '13WindDirection', '23SoilWC ค.ชื้นดิน', '23SoilTemp.อุณหภูมิดิน', '23SoilEC', '23SoilpH', '26N', '26P', '26K', '29SoilTension', 'flow1']\n",
            "['index', 'time', '1Air Humidity', '1AirTemperature', '1LightHigh', '1LightLow', '11Rain Accumulate (mm)', '11Rain count', '12WindSpeed', '13WindDirection', '23SoilWC ค.ชื้นดิน', '23SoilTemp.อุณหภูมิดิน', '23SoilEC', '23SoilpH', '26N', '26P', '26K', '29SoilTension', 'flow1']\n",
            "['index', 'time', '1Air Humidity', '1AirTemperature', '1LightHigh', '1LightLow', '11Rain Accumulate (mm)', '11Rain count', '12WindSpeed', '13WindDirection', '23SoilWC ค.ชื้นดิน', '23SoilTemp.อุณหภูมิดิน', '23SoilEC', '23SoilpH', '26N', '26P', '26K', '29SoilTension', 'flow1']\n"
          ]
        },
        {
          "data": {
            "text/html": [
              "<div>\n",
              "<style scoped>\n",
              "    .dataframe tbody tr th:only-of-type {\n",
              "        vertical-align: middle;\n",
              "    }\n",
              "\n",
              "    .dataframe tbody tr th {\n",
              "        vertical-align: top;\n",
              "    }\n",
              "\n",
              "    .dataframe thead th {\n",
              "        text-align: right;\n",
              "    }\n",
              "</style>\n",
              "<table border=\"1\" class=\"dataframe\">\n",
              "  <thead>\n",
              "    <tr style=\"text-align: right;\">\n",
              "      <th></th>\n",
              "      <th>index</th>\n",
              "      <th>time</th>\n",
              "      <th>1Air Humidity</th>\n",
              "      <th>1AirTemperature</th>\n",
              "      <th>1LightHigh</th>\n",
              "      <th>1LightLow</th>\n",
              "      <th>11Rain Accumulate (mm)</th>\n",
              "      <th>11Rain count</th>\n",
              "      <th>12WindSpeed</th>\n",
              "      <th>13WindDirection</th>\n",
              "      <th>23SoilWC ค.ชื้นดิน</th>\n",
              "      <th>23SoilTemp.อุณหภูมิดิน</th>\n",
              "      <th>23SoilEC</th>\n",
              "      <th>23SoilpH</th>\n",
              "      <th>26N</th>\n",
              "      <th>26P</th>\n",
              "      <th>26K</th>\n",
              "      <th>29SoilTension</th>\n",
              "      <th>flow1</th>\n",
              "    </tr>\n",
              "  </thead>\n",
              "  <tbody>\n",
              "    <tr>\n",
              "      <th>104</th>\n",
              "      <td>12_105</td>\n",
              "      <td>04:40:16.090733+00</td>\n",
              "      <td>44.1</td>\n",
              "      <td>31.2</td>\n",
              "      <td>0.0</td>\n",
              "      <td>47.64</td>\n",
              "      <td>0.0</td>\n",
              "      <td>0.0</td>\n",
              "      <td>0.5</td>\n",
              "      <td>3.0</td>\n",
              "      <td>38.8</td>\n",
              "      <td>22.8</td>\n",
              "      <td>0.11</td>\n",
              "      <td>5.0</td>\n",
              "      <td>21.0</td>\n",
              "      <td>95.0</td>\n",
              "      <td>87.0</td>\n",
              "      <td>105.0</td>\n",
              "      <td>0.0</td>\n",
              "    </tr>\n",
              "    <tr>\n",
              "      <th>105</th>\n",
              "      <td>12_106</td>\n",
              "      <td>04:42:16.132055+00</td>\n",
              "      <td>44.2</td>\n",
              "      <td>31.2</td>\n",
              "      <td>0.0</td>\n",
              "      <td>49.50</td>\n",
              "      <td>0.0</td>\n",
              "      <td>0.0</td>\n",
              "      <td>0.1</td>\n",
              "      <td>1.0</td>\n",
              "      <td>36.9</td>\n",
              "      <td>22.8</td>\n",
              "      <td>0.11</td>\n",
              "      <td>5.0</td>\n",
              "      <td>21.0</td>\n",
              "      <td>95.0</td>\n",
              "      <td>87.0</td>\n",
              "      <td>111.0</td>\n",
              "      <td>0.0</td>\n",
              "    </tr>\n",
              "    <tr>\n",
              "      <th>106</th>\n",
              "      <td>12_107</td>\n",
              "      <td>04:44:16.107327+00</td>\n",
              "      <td>45.2</td>\n",
              "      <td>30.8</td>\n",
              "      <td>0.0</td>\n",
              "      <td>50.03</td>\n",
              "      <td>0.0</td>\n",
              "      <td>0.0</td>\n",
              "      <td>1.2</td>\n",
              "      <td>7.0</td>\n",
              "      <td>37.4</td>\n",
              "      <td>22.8</td>\n",
              "      <td>0.11</td>\n",
              "      <td>5.0</td>\n",
              "      <td>21.0</td>\n",
              "      <td>95.0</td>\n",
              "      <td>87.0</td>\n",
              "      <td>113.0</td>\n",
              "      <td>0.0</td>\n",
              "    </tr>\n",
              "    <tr>\n",
              "      <th>107</th>\n",
              "      <td>12_108</td>\n",
              "      <td>04:46:16.11276+00</td>\n",
              "      <td>45.9</td>\n",
              "      <td>32.0</td>\n",
              "      <td>0.0</td>\n",
              "      <td>50.06</td>\n",
              "      <td>0.0</td>\n",
              "      <td>0.0</td>\n",
              "      <td>0.6</td>\n",
              "      <td>1.0</td>\n",
              "      <td>36.9</td>\n",
              "      <td>22.8</td>\n",
              "      <td>0.11</td>\n",
              "      <td>5.0</td>\n",
              "      <td>21.0</td>\n",
              "      <td>95.0</td>\n",
              "      <td>87.0</td>\n",
              "      <td>110.0</td>\n",
              "      <td>0.0</td>\n",
              "    </tr>\n",
              "    <tr>\n",
              "      <th>108</th>\n",
              "      <td>12_109</td>\n",
              "      <td>04:48:16.120498+00</td>\n",
              "      <td>41.4</td>\n",
              "      <td>33.1</td>\n",
              "      <td>0.0</td>\n",
              "      <td>50.36</td>\n",
              "      <td>0.0</td>\n",
              "      <td>0.0</td>\n",
              "      <td>0.7</td>\n",
              "      <td>7.0</td>\n",
              "      <td>37.6</td>\n",
              "      <td>22.8</td>\n",
              "      <td>0.11</td>\n",
              "      <td>5.0</td>\n",
              "      <td>21.0</td>\n",
              "      <td>95.0</td>\n",
              "      <td>87.0</td>\n",
              "      <td>108.0</td>\n",
              "      <td>0.0</td>\n",
              "    </tr>\n",
              "    <tr>\n",
              "      <th>109</th>\n",
              "      <td>12_110</td>\n",
              "      <td>04:50:16.123489+00</td>\n",
              "      <td>43.0</td>\n",
              "      <td>33.0</td>\n",
              "      <td>0.0</td>\n",
              "      <td>52.30</td>\n",
              "      <td>0.0</td>\n",
              "      <td>0.0</td>\n",
              "      <td>1.0</td>\n",
              "      <td>5.0</td>\n",
              "      <td>36.9</td>\n",
              "      <td>22.8</td>\n",
              "      <td>0.11</td>\n",
              "      <td>5.0</td>\n",
              "      <td>21.0</td>\n",
              "      <td>95.0</td>\n",
              "      <td>87.0</td>\n",
              "      <td>109.0</td>\n",
              "      <td>0.0</td>\n",
              "    </tr>\n",
              "    <tr>\n",
              "      <th>110</th>\n",
              "      <td>12_111</td>\n",
              "      <td>04:52:18.185763+00</td>\n",
              "      <td>42.5</td>\n",
              "      <td>32.5</td>\n",
              "      <td>0.0</td>\n",
              "      <td>53.76</td>\n",
              "      <td>0.0</td>\n",
              "      <td>0.0</td>\n",
              "      <td>0.8</td>\n",
              "      <td>4.0</td>\n",
              "      <td>37.4</td>\n",
              "      <td>22.8</td>\n",
              "      <td>0.11</td>\n",
              "      <td>5.0</td>\n",
              "      <td>21.0</td>\n",
              "      <td>95.0</td>\n",
              "      <td>87.0</td>\n",
              "      <td>0.0</td>\n",
              "      <td>0.0</td>\n",
              "    </tr>\n",
              "    <tr>\n",
              "      <th>111</th>\n",
              "      <td>12_112</td>\n",
              "      <td>04:54:16.141528+00</td>\n",
              "      <td>41.7</td>\n",
              "      <td>33.1</td>\n",
              "      <td>0.0</td>\n",
              "      <td>54.86</td>\n",
              "      <td>0.0</td>\n",
              "      <td>0.0</td>\n",
              "      <td>0.8</td>\n",
              "      <td>4.0</td>\n",
              "      <td>37.4</td>\n",
              "      <td>22.8</td>\n",
              "      <td>0.11</td>\n",
              "      <td>5.1</td>\n",
              "      <td>21.0</td>\n",
              "      <td>95.0</td>\n",
              "      <td>87.0</td>\n",
              "      <td>109.0</td>\n",
              "      <td>0.0</td>\n",
              "    </tr>\n",
              "    <tr>\n",
              "      <th>112</th>\n",
              "      <td>12_113</td>\n",
              "      <td>04:56:20.078654+00</td>\n",
              "      <td>0.0</td>\n",
              "      <td>0.0</td>\n",
              "      <td>0.0</td>\n",
              "      <td>0.00</td>\n",
              "      <td>0.0</td>\n",
              "      <td>0.0</td>\n",
              "      <td>0.0</td>\n",
              "      <td>2.0</td>\n",
              "      <td>36.9</td>\n",
              "      <td>22.8</td>\n",
              "      <td>0.11</td>\n",
              "      <td>5.0</td>\n",
              "      <td>21.0</td>\n",
              "      <td>95.0</td>\n",
              "      <td>87.0</td>\n",
              "      <td>104.0</td>\n",
              "      <td>0.0</td>\n",
              "    </tr>\n",
              "    <tr>\n",
              "      <th>113</th>\n",
              "      <td>12_114</td>\n",
              "      <td>04:58:16.116687+00</td>\n",
              "      <td>44.8</td>\n",
              "      <td>32.5</td>\n",
              "      <td>0.0</td>\n",
              "      <td>58.81</td>\n",
              "      <td>0.0</td>\n",
              "      <td>0.0</td>\n",
              "      <td>1.2</td>\n",
              "      <td>7.0</td>\n",
              "      <td>37.4</td>\n",
              "      <td>22.8</td>\n",
              "      <td>0.11</td>\n",
              "      <td>5.1</td>\n",
              "      <td>21.0</td>\n",
              "      <td>95.0</td>\n",
              "      <td>87.0</td>\n",
              "      <td>113.0</td>\n",
              "      <td>0.0</td>\n",
              "    </tr>\n",
              "  </tbody>\n",
              "</table>\n",
              "</div>"
            ],
            "text/plain": [
              "      index                time  1Air Humidity  1AirTemperature  1LightHigh  \\\n",
              "104  12_105  04:40:16.090733+00           44.1             31.2         0.0   \n",
              "105  12_106  04:42:16.132055+00           44.2             31.2         0.0   \n",
              "106  12_107  04:44:16.107327+00           45.2             30.8         0.0   \n",
              "107  12_108   04:46:16.11276+00           45.9             32.0         0.0   \n",
              "108  12_109  04:48:16.120498+00           41.4             33.1         0.0   \n",
              "109  12_110  04:50:16.123489+00           43.0             33.0         0.0   \n",
              "110  12_111  04:52:18.185763+00           42.5             32.5         0.0   \n",
              "111  12_112  04:54:16.141528+00           41.7             33.1         0.0   \n",
              "112  12_113  04:56:20.078654+00            0.0              0.0         0.0   \n",
              "113  12_114  04:58:16.116687+00           44.8             32.5         0.0   \n",
              "\n",
              "     1LightLow  11Rain Accumulate (mm)  11Rain count  12WindSpeed  \\\n",
              "104      47.64                     0.0           0.0          0.5   \n",
              "105      49.50                     0.0           0.0          0.1   \n",
              "106      50.03                     0.0           0.0          1.2   \n",
              "107      50.06                     0.0           0.0          0.6   \n",
              "108      50.36                     0.0           0.0          0.7   \n",
              "109      52.30                     0.0           0.0          1.0   \n",
              "110      53.76                     0.0           0.0          0.8   \n",
              "111      54.86                     0.0           0.0          0.8   \n",
              "112       0.00                     0.0           0.0          0.0   \n",
              "113      58.81                     0.0           0.0          1.2   \n",
              "\n",
              "     13WindDirection  23SoilWC ค.ชื้นดิน  23SoilTemp.อุณหภูมิดิน  23SoilEC  \\\n",
              "104              3.0                38.8                    22.8      0.11   \n",
              "105              1.0                36.9                    22.8      0.11   \n",
              "106              7.0                37.4                    22.8      0.11   \n",
              "107              1.0                36.9                    22.8      0.11   \n",
              "108              7.0                37.6                    22.8      0.11   \n",
              "109              5.0                36.9                    22.8      0.11   \n",
              "110              4.0                37.4                    22.8      0.11   \n",
              "111              4.0                37.4                    22.8      0.11   \n",
              "112              2.0                36.9                    22.8      0.11   \n",
              "113              7.0                37.4                    22.8      0.11   \n",
              "\n",
              "     23SoilpH   26N   26P   26K  29SoilTension  flow1  \n",
              "104       5.0  21.0  95.0  87.0          105.0    0.0  \n",
              "105       5.0  21.0  95.0  87.0          111.0    0.0  \n",
              "106       5.0  21.0  95.0  87.0          113.0    0.0  \n",
              "107       5.0  21.0  95.0  87.0          110.0    0.0  \n",
              "108       5.0  21.0  95.0  87.0          108.0    0.0  \n",
              "109       5.0  21.0  95.0  87.0          109.0    0.0  \n",
              "110       5.0  21.0  95.0  87.0            0.0    0.0  \n",
              "111       5.1  21.0  95.0  87.0          109.0    0.0  \n",
              "112       5.0  21.0  95.0  87.0          104.0    0.0  \n",
              "113       5.1  21.0  95.0  87.0          113.0    0.0  "
            ]
          },
          "execution_count": 2,
          "metadata": {},
          "output_type": "execute_result"
        }
      ],
      "source": [
        "df = []\n",
        "src = r\"C:\\Users\\Acer\\Desktop\\Hackathon4\\farm-connect-soil-water-content-prediction\\train\\train\"\n",
        "for file in os.listdir(src):\n",
        "    df.append(pd.read_csv(os.path.join(src,file)))\n",
        "for i in df:\n",
        "    print(list(i))\n",
        "df = pd.concat(df)\n",
        "df = df.fillna(0)\n",
        "df[-10:]"
      ]
    },
    {
      "cell_type": "code",
      "execution_count": 3,
      "metadata": {
        "colab": {
          "base_uri": "https://localhost:8080/"
        },
        "id": "4TuZJrFDWJP9",
        "outputId": "1c873deb-47c3-4302-8429-d575d4a0968c"
      },
      "outputs": [
        {
          "data": {
            "text/plain": [
              "(1340, 19)"
            ]
          },
          "execution_count": 3,
          "metadata": {},
          "output_type": "execute_result"
        }
      ],
      "source": [
        "df.shape"
      ]
    },
    {
      "cell_type": "code",
      "execution_count": 4,
      "metadata": {
        "colab": {
          "base_uri": "https://localhost:8080/"
        },
        "id": "2sePA1e8WJP-",
        "outputId": "af596eba-7ce3-45ba-9de7-8d61d7620709"
      },
      "outputs": [
        {
          "data": {
            "text/plain": [
              "Index(['index', 'time', '1Air Humidity', '1AirTemperature', '1LightHigh',\n",
              "       '1LightLow', '11Rain Accumulate (mm)', '11Rain count', '12WindSpeed',\n",
              "       '13WindDirection', '23SoilWC ค.ชื้นดิน', '23SoilTemp.อุณหภูมิดิน',\n",
              "       '23SoilEC', '23SoilpH', '26N', '26P', '26K', '29SoilTension', 'flow1'],\n",
              "      dtype='object')"
            ]
          },
          "execution_count": 4,
          "metadata": {},
          "output_type": "execute_result"
        }
      ],
      "source": [
        "df.columns"
      ]
    },
    {
      "cell_type": "code",
      "execution_count": 5,
      "metadata": {},
      "outputs": [],
      "source": [
        "from datetime import datetime\n"
      ]
    },
    {
      "cell_type": "code",
      "execution_count": 6,
      "metadata": {},
      "outputs": [
        {
          "name": "stdout",
          "output_type": "stream",
          "text": [
            "                   time  time_of_day\n",
            "0    01:00:50.174233+00          0.0\n",
            "1    01:02:51.384714+00          0.0\n",
            "2    01:04:52.127056+00          0.0\n",
            "3    01:06:50.205974+00          0.0\n",
            "4    01:08:50.162332+00          0.0\n",
            "..                  ...          ...\n",
            "109  04:50:16.123489+00          0.0\n",
            "110  04:52:18.185763+00          0.0\n",
            "111  04:54:16.141528+00          0.0\n",
            "112  04:56:20.078654+00          0.0\n",
            "113  04:58:16.116687+00          0.0\n",
            "\n",
            "[1340 rows x 2 columns]\n"
          ]
        }
      ],
      "source": [
        "import pandas as pd\n",
        "from datetime import datetime\n",
        "\n",
        "# Assuming df['time'] is your initial DataFrame column with time strings\n",
        "\n",
        "# Define the function to categorize time of day\n",
        "def get_time_of_day(hour):\n",
        "    if 0 <= hour < 5:           # 'Early Morning'\n",
        "        return 0.0\n",
        "    elif 5 <= hour < 12:        # 'Morning'\n",
        "        return 1.0\n",
        "    elif 12 <= hour < 17:       # 'Afternoon'\n",
        "        return 2.0\n",
        "    elif 17 <= hour < 21:       # 'Evening'\n",
        "        return 3.0\n",
        "    else:                       # 'Night'\n",
        "        return 4.0\n",
        "\n",
        "# Convert 'time' column to datetime objects, ignoring the timezone for simplicity\n",
        "df['time_parsed'] = pd.to_datetime(df['time'].str.split('+').str[0], format='%H:%M:%S.%f')\n",
        "\n",
        "# Extract hour from the 'time_parsed' column\n",
        "df['hour'] = df['time_parsed'].dt.hour\n",
        "\n",
        "# Apply the get_time_of_day function to create 'time_of_day' column\n",
        "df['time_of_day'] = df['hour'].apply(get_time_of_day)\n",
        "\n",
        "# Now df includes the new 'time_of_day' column\n",
        "print(df[['time', 'time_of_day']])\n"
      ]
    },
    {
      "cell_type": "code",
      "execution_count": 7,
      "metadata": {},
      "outputs": [
        {
          "data": {
            "text/html": [
              "<div>\n",
              "<style scoped>\n",
              "    .dataframe tbody tr th:only-of-type {\n",
              "        vertical-align: middle;\n",
              "    }\n",
              "\n",
              "    .dataframe tbody tr th {\n",
              "        vertical-align: top;\n",
              "    }\n",
              "\n",
              "    .dataframe thead th {\n",
              "        text-align: right;\n",
              "    }\n",
              "</style>\n",
              "<table border=\"1\" class=\"dataframe\">\n",
              "  <thead>\n",
              "    <tr style=\"text-align: right;\">\n",
              "      <th></th>\n",
              "      <th>index</th>\n",
              "      <th>time</th>\n",
              "      <th>1Air Humidity</th>\n",
              "      <th>1AirTemperature</th>\n",
              "      <th>1LightHigh</th>\n",
              "      <th>1LightLow</th>\n",
              "      <th>11Rain Accumulate (mm)</th>\n",
              "      <th>11Rain count</th>\n",
              "      <th>12WindSpeed</th>\n",
              "      <th>13WindDirection</th>\n",
              "      <th>...</th>\n",
              "      <th>23SoilEC</th>\n",
              "      <th>23SoilpH</th>\n",
              "      <th>26N</th>\n",
              "      <th>26P</th>\n",
              "      <th>26K</th>\n",
              "      <th>29SoilTension</th>\n",
              "      <th>flow1</th>\n",
              "      <th>time_parsed</th>\n",
              "      <th>hour</th>\n",
              "      <th>time_of_day</th>\n",
              "    </tr>\n",
              "  </thead>\n",
              "  <tbody>\n",
              "    <tr>\n",
              "      <th>0</th>\n",
              "      <td>01_1</td>\n",
              "      <td>01:00:50.174233+00</td>\n",
              "      <td>97.3</td>\n",
              "      <td>21.8</td>\n",
              "      <td>0.0</td>\n",
              "      <td>9.57</td>\n",
              "      <td>0.0</td>\n",
              "      <td>0.0</td>\n",
              "      <td>0.0</td>\n",
              "      <td>6.0</td>\n",
              "      <td>...</td>\n",
              "      <td>0.11</td>\n",
              "      <td>8.3</td>\n",
              "      <td>21.0</td>\n",
              "      <td>95.0</td>\n",
              "      <td>87.0</td>\n",
              "      <td>23.0</td>\n",
              "      <td>0.0</td>\n",
              "      <td>1900-01-01 01:00:50.174233</td>\n",
              "      <td>1</td>\n",
              "      <td>0.0</td>\n",
              "    </tr>\n",
              "    <tr>\n",
              "      <th>1</th>\n",
              "      <td>01_2</td>\n",
              "      <td>01:02:51.384714+00</td>\n",
              "      <td>96.6</td>\n",
              "      <td>22.0</td>\n",
              "      <td>0.0</td>\n",
              "      <td>9.81</td>\n",
              "      <td>0.0</td>\n",
              "      <td>0.0</td>\n",
              "      <td>0.0</td>\n",
              "      <td>6.0</td>\n",
              "      <td>...</td>\n",
              "      <td>0.11</td>\n",
              "      <td>8.3</td>\n",
              "      <td>21.0</td>\n",
              "      <td>95.0</td>\n",
              "      <td>87.0</td>\n",
              "      <td>22.0</td>\n",
              "      <td>0.0</td>\n",
              "      <td>1900-01-01 01:02:51.384714</td>\n",
              "      <td>1</td>\n",
              "      <td>0.0</td>\n",
              "    </tr>\n",
              "    <tr>\n",
              "      <th>2</th>\n",
              "      <td>01_3</td>\n",
              "      <td>01:04:52.127056+00</td>\n",
              "      <td>95.9</td>\n",
              "      <td>22.2</td>\n",
              "      <td>0.0</td>\n",
              "      <td>10.22</td>\n",
              "      <td>0.0</td>\n",
              "      <td>0.0</td>\n",
              "      <td>0.0</td>\n",
              "      <td>5.0</td>\n",
              "      <td>...</td>\n",
              "      <td>0.11</td>\n",
              "      <td>8.3</td>\n",
              "      <td>21.0</td>\n",
              "      <td>95.0</td>\n",
              "      <td>87.0</td>\n",
              "      <td>0.0</td>\n",
              "      <td>0.0</td>\n",
              "      <td>1900-01-01 01:04:52.127056</td>\n",
              "      <td>1</td>\n",
              "      <td>0.0</td>\n",
              "    </tr>\n",
              "    <tr>\n",
              "      <th>3</th>\n",
              "      <td>01_4</td>\n",
              "      <td>01:06:50.205974+00</td>\n",
              "      <td>95.3</td>\n",
              "      <td>22.4</td>\n",
              "      <td>0.0</td>\n",
              "      <td>10.25</td>\n",
              "      <td>0.0</td>\n",
              "      <td>0.0</td>\n",
              "      <td>0.0</td>\n",
              "      <td>6.0</td>\n",
              "      <td>...</td>\n",
              "      <td>0.11</td>\n",
              "      <td>8.3</td>\n",
              "      <td>21.0</td>\n",
              "      <td>95.0</td>\n",
              "      <td>87.0</td>\n",
              "      <td>22.0</td>\n",
              "      <td>0.0</td>\n",
              "      <td>1900-01-01 01:06:50.205974</td>\n",
              "      <td>1</td>\n",
              "      <td>0.0</td>\n",
              "    </tr>\n",
              "    <tr>\n",
              "      <th>4</th>\n",
              "      <td>01_5</td>\n",
              "      <td>01:08:50.162332+00</td>\n",
              "      <td>93.8</td>\n",
              "      <td>22.4</td>\n",
              "      <td>0.0</td>\n",
              "      <td>10.45</td>\n",
              "      <td>0.0</td>\n",
              "      <td>0.0</td>\n",
              "      <td>0.0</td>\n",
              "      <td>6.0</td>\n",
              "      <td>...</td>\n",
              "      <td>0.11</td>\n",
              "      <td>8.3</td>\n",
              "      <td>21.0</td>\n",
              "      <td>95.0</td>\n",
              "      <td>87.0</td>\n",
              "      <td>23.0</td>\n",
              "      <td>0.0</td>\n",
              "      <td>1900-01-01 01:08:50.162332</td>\n",
              "      <td>1</td>\n",
              "      <td>0.0</td>\n",
              "    </tr>\n",
              "    <tr>\n",
              "      <th>...</th>\n",
              "      <td>...</td>\n",
              "      <td>...</td>\n",
              "      <td>...</td>\n",
              "      <td>...</td>\n",
              "      <td>...</td>\n",
              "      <td>...</td>\n",
              "      <td>...</td>\n",
              "      <td>...</td>\n",
              "      <td>...</td>\n",
              "      <td>...</td>\n",
              "      <td>...</td>\n",
              "      <td>...</td>\n",
              "      <td>...</td>\n",
              "      <td>...</td>\n",
              "      <td>...</td>\n",
              "      <td>...</td>\n",
              "      <td>...</td>\n",
              "      <td>...</td>\n",
              "      <td>...</td>\n",
              "      <td>...</td>\n",
              "      <td>...</td>\n",
              "    </tr>\n",
              "    <tr>\n",
              "      <th>109</th>\n",
              "      <td>12_110</td>\n",
              "      <td>04:50:16.123489+00</td>\n",
              "      <td>43.0</td>\n",
              "      <td>33.0</td>\n",
              "      <td>0.0</td>\n",
              "      <td>52.30</td>\n",
              "      <td>0.0</td>\n",
              "      <td>0.0</td>\n",
              "      <td>1.0</td>\n",
              "      <td>5.0</td>\n",
              "      <td>...</td>\n",
              "      <td>0.11</td>\n",
              "      <td>5.0</td>\n",
              "      <td>21.0</td>\n",
              "      <td>95.0</td>\n",
              "      <td>87.0</td>\n",
              "      <td>109.0</td>\n",
              "      <td>0.0</td>\n",
              "      <td>1900-01-01 04:50:16.123489</td>\n",
              "      <td>4</td>\n",
              "      <td>0.0</td>\n",
              "    </tr>\n",
              "    <tr>\n",
              "      <th>110</th>\n",
              "      <td>12_111</td>\n",
              "      <td>04:52:18.185763+00</td>\n",
              "      <td>42.5</td>\n",
              "      <td>32.5</td>\n",
              "      <td>0.0</td>\n",
              "      <td>53.76</td>\n",
              "      <td>0.0</td>\n",
              "      <td>0.0</td>\n",
              "      <td>0.8</td>\n",
              "      <td>4.0</td>\n",
              "      <td>...</td>\n",
              "      <td>0.11</td>\n",
              "      <td>5.0</td>\n",
              "      <td>21.0</td>\n",
              "      <td>95.0</td>\n",
              "      <td>87.0</td>\n",
              "      <td>0.0</td>\n",
              "      <td>0.0</td>\n",
              "      <td>1900-01-01 04:52:18.185763</td>\n",
              "      <td>4</td>\n",
              "      <td>0.0</td>\n",
              "    </tr>\n",
              "    <tr>\n",
              "      <th>111</th>\n",
              "      <td>12_112</td>\n",
              "      <td>04:54:16.141528+00</td>\n",
              "      <td>41.7</td>\n",
              "      <td>33.1</td>\n",
              "      <td>0.0</td>\n",
              "      <td>54.86</td>\n",
              "      <td>0.0</td>\n",
              "      <td>0.0</td>\n",
              "      <td>0.8</td>\n",
              "      <td>4.0</td>\n",
              "      <td>...</td>\n",
              "      <td>0.11</td>\n",
              "      <td>5.1</td>\n",
              "      <td>21.0</td>\n",
              "      <td>95.0</td>\n",
              "      <td>87.0</td>\n",
              "      <td>109.0</td>\n",
              "      <td>0.0</td>\n",
              "      <td>1900-01-01 04:54:16.141528</td>\n",
              "      <td>4</td>\n",
              "      <td>0.0</td>\n",
              "    </tr>\n",
              "    <tr>\n",
              "      <th>112</th>\n",
              "      <td>12_113</td>\n",
              "      <td>04:56:20.078654+00</td>\n",
              "      <td>0.0</td>\n",
              "      <td>0.0</td>\n",
              "      <td>0.0</td>\n",
              "      <td>0.00</td>\n",
              "      <td>0.0</td>\n",
              "      <td>0.0</td>\n",
              "      <td>0.0</td>\n",
              "      <td>2.0</td>\n",
              "      <td>...</td>\n",
              "      <td>0.11</td>\n",
              "      <td>5.0</td>\n",
              "      <td>21.0</td>\n",
              "      <td>95.0</td>\n",
              "      <td>87.0</td>\n",
              "      <td>104.0</td>\n",
              "      <td>0.0</td>\n",
              "      <td>1900-01-01 04:56:20.078654</td>\n",
              "      <td>4</td>\n",
              "      <td>0.0</td>\n",
              "    </tr>\n",
              "    <tr>\n",
              "      <th>113</th>\n",
              "      <td>12_114</td>\n",
              "      <td>04:58:16.116687+00</td>\n",
              "      <td>44.8</td>\n",
              "      <td>32.5</td>\n",
              "      <td>0.0</td>\n",
              "      <td>58.81</td>\n",
              "      <td>0.0</td>\n",
              "      <td>0.0</td>\n",
              "      <td>1.2</td>\n",
              "      <td>7.0</td>\n",
              "      <td>...</td>\n",
              "      <td>0.11</td>\n",
              "      <td>5.1</td>\n",
              "      <td>21.0</td>\n",
              "      <td>95.0</td>\n",
              "      <td>87.0</td>\n",
              "      <td>113.0</td>\n",
              "      <td>0.0</td>\n",
              "      <td>1900-01-01 04:58:16.116687</td>\n",
              "      <td>4</td>\n",
              "      <td>0.0</td>\n",
              "    </tr>\n",
              "  </tbody>\n",
              "</table>\n",
              "<p>1340 rows × 22 columns</p>\n",
              "</div>"
            ],
            "text/plain": [
              "      index                time  1Air Humidity  1AirTemperature  1LightHigh  \\\n",
              "0      01_1  01:00:50.174233+00           97.3             21.8         0.0   \n",
              "1      01_2  01:02:51.384714+00           96.6             22.0         0.0   \n",
              "2      01_3  01:04:52.127056+00           95.9             22.2         0.0   \n",
              "3      01_4  01:06:50.205974+00           95.3             22.4         0.0   \n",
              "4      01_5  01:08:50.162332+00           93.8             22.4         0.0   \n",
              "..      ...                 ...            ...              ...         ...   \n",
              "109  12_110  04:50:16.123489+00           43.0             33.0         0.0   \n",
              "110  12_111  04:52:18.185763+00           42.5             32.5         0.0   \n",
              "111  12_112  04:54:16.141528+00           41.7             33.1         0.0   \n",
              "112  12_113  04:56:20.078654+00            0.0              0.0         0.0   \n",
              "113  12_114  04:58:16.116687+00           44.8             32.5         0.0   \n",
              "\n",
              "     1LightLow  11Rain Accumulate (mm)  11Rain count  12WindSpeed  \\\n",
              "0         9.57                     0.0           0.0          0.0   \n",
              "1         9.81                     0.0           0.0          0.0   \n",
              "2        10.22                     0.0           0.0          0.0   \n",
              "3        10.25                     0.0           0.0          0.0   \n",
              "4        10.45                     0.0           0.0          0.0   \n",
              "..         ...                     ...           ...          ...   \n",
              "109      52.30                     0.0           0.0          1.0   \n",
              "110      53.76                     0.0           0.0          0.8   \n",
              "111      54.86                     0.0           0.0          0.8   \n",
              "112       0.00                     0.0           0.0          0.0   \n",
              "113      58.81                     0.0           0.0          1.2   \n",
              "\n",
              "     13WindDirection  ...  23SoilEC  23SoilpH   26N   26P   26K  \\\n",
              "0                6.0  ...      0.11       8.3  21.0  95.0  87.0   \n",
              "1                6.0  ...      0.11       8.3  21.0  95.0  87.0   \n",
              "2                5.0  ...      0.11       8.3  21.0  95.0  87.0   \n",
              "3                6.0  ...      0.11       8.3  21.0  95.0  87.0   \n",
              "4                6.0  ...      0.11       8.3  21.0  95.0  87.0   \n",
              "..               ...  ...       ...       ...   ...   ...   ...   \n",
              "109              5.0  ...      0.11       5.0  21.0  95.0  87.0   \n",
              "110              4.0  ...      0.11       5.0  21.0  95.0  87.0   \n",
              "111              4.0  ...      0.11       5.1  21.0  95.0  87.0   \n",
              "112              2.0  ...      0.11       5.0  21.0  95.0  87.0   \n",
              "113              7.0  ...      0.11       5.1  21.0  95.0  87.0   \n",
              "\n",
              "     29SoilTension  flow1                time_parsed  hour time_of_day  \n",
              "0             23.0    0.0 1900-01-01 01:00:50.174233     1         0.0  \n",
              "1             22.0    0.0 1900-01-01 01:02:51.384714     1         0.0  \n",
              "2              0.0    0.0 1900-01-01 01:04:52.127056     1         0.0  \n",
              "3             22.0    0.0 1900-01-01 01:06:50.205974     1         0.0  \n",
              "4             23.0    0.0 1900-01-01 01:08:50.162332     1         0.0  \n",
              "..             ...    ...                        ...   ...         ...  \n",
              "109          109.0    0.0 1900-01-01 04:50:16.123489     4         0.0  \n",
              "110            0.0    0.0 1900-01-01 04:52:18.185763     4         0.0  \n",
              "111          109.0    0.0 1900-01-01 04:54:16.141528     4         0.0  \n",
              "112          104.0    0.0 1900-01-01 04:56:20.078654     4         0.0  \n",
              "113          113.0    0.0 1900-01-01 04:58:16.116687     4         0.0  \n",
              "\n",
              "[1340 rows x 22 columns]"
            ]
          },
          "execution_count": 7,
          "metadata": {},
          "output_type": "execute_result"
        }
      ],
      "source": [
        "df"
      ]
    },
    {
      "cell_type": "code",
      "execution_count": 8,
      "metadata": {
        "colab": {
          "base_uri": "https://localhost:8080/",
          "height": 449
        },
        "id": "hr3k7qBoWJP-",
        "outputId": "cf32fae3-e890-4b04-81b4-a3cf5161e686"
      },
      "outputs": [
        {
          "data": {
            "text/html": [
              "<div>\n",
              "<style scoped>\n",
              "    .dataframe tbody tr th:only-of-type {\n",
              "        vertical-align: middle;\n",
              "    }\n",
              "\n",
              "    .dataframe tbody tr th {\n",
              "        vertical-align: top;\n",
              "    }\n",
              "\n",
              "    .dataframe thead th {\n",
              "        text-align: right;\n",
              "    }\n",
              "</style>\n",
              "<table border=\"1\" class=\"dataframe\">\n",
              "  <thead>\n",
              "    <tr style=\"text-align: right;\">\n",
              "      <th></th>\n",
              "      <th>index</th>\n",
              "      <th>time</th>\n",
              "      <th>1Air Humidity</th>\n",
              "      <th>1AirTemperature</th>\n",
              "      <th>1LightHigh</th>\n",
              "      <th>1LightLow</th>\n",
              "      <th>11Rain Accumulate (mm)</th>\n",
              "      <th>11Rain count</th>\n",
              "      <th>12WindSpeed</th>\n",
              "      <th>13WindDirection</th>\n",
              "      <th>...</th>\n",
              "      <th>23SoilEC</th>\n",
              "      <th>23SoilpH</th>\n",
              "      <th>26N</th>\n",
              "      <th>26P</th>\n",
              "      <th>26K</th>\n",
              "      <th>29SoilTension</th>\n",
              "      <th>flow1</th>\n",
              "      <th>time_parsed</th>\n",
              "      <th>hour</th>\n",
              "      <th>time_of_day</th>\n",
              "    </tr>\n",
              "  </thead>\n",
              "  <tbody>\n",
              "    <tr>\n",
              "      <th>count</th>\n",
              "      <td>1340</td>\n",
              "      <td>1340</td>\n",
              "      <td>1340.000000</td>\n",
              "      <td>1340.000000</td>\n",
              "      <td>1340.000000</td>\n",
              "      <td>1340.000000</td>\n",
              "      <td>1340.0</td>\n",
              "      <td>1340.0</td>\n",
              "      <td>1340.000000</td>\n",
              "      <td>1340.000000</td>\n",
              "      <td>...</td>\n",
              "      <td>1340.000000</td>\n",
              "      <td>1340.000000</td>\n",
              "      <td>1340.000000</td>\n",
              "      <td>1340.000000</td>\n",
              "      <td>1340.000000</td>\n",
              "      <td>1340.000000</td>\n",
              "      <td>1340.000000</td>\n",
              "      <td>1340</td>\n",
              "      <td>1340.000000</td>\n",
              "      <td>1340.000000</td>\n",
              "    </tr>\n",
              "    <tr>\n",
              "      <th>unique</th>\n",
              "      <td>1340</td>\n",
              "      <td>1340</td>\n",
              "      <td>NaN</td>\n",
              "      <td>NaN</td>\n",
              "      <td>NaN</td>\n",
              "      <td>NaN</td>\n",
              "      <td>NaN</td>\n",
              "      <td>NaN</td>\n",
              "      <td>NaN</td>\n",
              "      <td>NaN</td>\n",
              "      <td>...</td>\n",
              "      <td>NaN</td>\n",
              "      <td>NaN</td>\n",
              "      <td>NaN</td>\n",
              "      <td>NaN</td>\n",
              "      <td>NaN</td>\n",
              "      <td>NaN</td>\n",
              "      <td>NaN</td>\n",
              "      <td>NaN</td>\n",
              "      <td>NaN</td>\n",
              "      <td>NaN</td>\n",
              "    </tr>\n",
              "    <tr>\n",
              "      <th>top</th>\n",
              "      <td>01_1</td>\n",
              "      <td>01:00:50.174233+00</td>\n",
              "      <td>NaN</td>\n",
              "      <td>NaN</td>\n",
              "      <td>NaN</td>\n",
              "      <td>NaN</td>\n",
              "      <td>NaN</td>\n",
              "      <td>NaN</td>\n",
              "      <td>NaN</td>\n",
              "      <td>NaN</td>\n",
              "      <td>...</td>\n",
              "      <td>NaN</td>\n",
              "      <td>NaN</td>\n",
              "      <td>NaN</td>\n",
              "      <td>NaN</td>\n",
              "      <td>NaN</td>\n",
              "      <td>NaN</td>\n",
              "      <td>NaN</td>\n",
              "      <td>NaN</td>\n",
              "      <td>NaN</td>\n",
              "      <td>NaN</td>\n",
              "    </tr>\n",
              "    <tr>\n",
              "      <th>freq</th>\n",
              "      <td>1</td>\n",
              "      <td>1</td>\n",
              "      <td>NaN</td>\n",
              "      <td>NaN</td>\n",
              "      <td>NaN</td>\n",
              "      <td>NaN</td>\n",
              "      <td>NaN</td>\n",
              "      <td>NaN</td>\n",
              "      <td>NaN</td>\n",
              "      <td>NaN</td>\n",
              "      <td>...</td>\n",
              "      <td>NaN</td>\n",
              "      <td>NaN</td>\n",
              "      <td>NaN</td>\n",
              "      <td>NaN</td>\n",
              "      <td>NaN</td>\n",
              "      <td>NaN</td>\n",
              "      <td>NaN</td>\n",
              "      <td>NaN</td>\n",
              "      <td>NaN</td>\n",
              "      <td>NaN</td>\n",
              "    </tr>\n",
              "    <tr>\n",
              "      <th>mean</th>\n",
              "      <td>NaN</td>\n",
              "      <td>NaN</td>\n",
              "      <td>48.565149</td>\n",
              "      <td>28.975373</td>\n",
              "      <td>21.761828</td>\n",
              "      <td>27.479515</td>\n",
              "      <td>0.0</td>\n",
              "      <td>0.0</td>\n",
              "      <td>0.751045</td>\n",
              "      <td>2.914179</td>\n",
              "      <td>...</td>\n",
              "      <td>0.118567</td>\n",
              "      <td>6.512910</td>\n",
              "      <td>20.721642</td>\n",
              "      <td>89.968657</td>\n",
              "      <td>83.330597</td>\n",
              "      <td>40.767164</td>\n",
              "      <td>0.403731</td>\n",
              "      <td>1900-01-01 04:27:40.767920640</td>\n",
              "      <td>3.958955</td>\n",
              "      <td>0.329104</td>\n",
              "    </tr>\n",
              "    <tr>\n",
              "      <th>min</th>\n",
              "      <td>NaN</td>\n",
              "      <td>NaN</td>\n",
              "      <td>0.000000</td>\n",
              "      <td>0.000000</td>\n",
              "      <td>0.000000</td>\n",
              "      <td>0.000000</td>\n",
              "      <td>0.0</td>\n",
              "      <td>0.0</td>\n",
              "      <td>0.000000</td>\n",
              "      <td>0.000000</td>\n",
              "      <td>...</td>\n",
              "      <td>0.000000</td>\n",
              "      <td>0.000000</td>\n",
              "      <td>0.000000</td>\n",
              "      <td>0.000000</td>\n",
              "      <td>0.000000</td>\n",
              "      <td>0.000000</td>\n",
              "      <td>0.000000</td>\n",
              "      <td>1900-01-01 00:26:03.264438</td>\n",
              "      <td>0.000000</td>\n",
              "      <td>0.000000</td>\n",
              "    </tr>\n",
              "    <tr>\n",
              "      <th>25%</th>\n",
              "      <td>NaN</td>\n",
              "      <td>NaN</td>\n",
              "      <td>41.800000</td>\n",
              "      <td>25.900000</td>\n",
              "      <td>0.000000</td>\n",
              "      <td>5.475000</td>\n",
              "      <td>0.0</td>\n",
              "      <td>0.0</td>\n",
              "      <td>0.100000</td>\n",
              "      <td>1.000000</td>\n",
              "      <td>...</td>\n",
              "      <td>0.110000</td>\n",
              "      <td>5.000000</td>\n",
              "      <td>21.000000</td>\n",
              "      <td>94.000000</td>\n",
              "      <td>87.000000</td>\n",
              "      <td>23.000000</td>\n",
              "      <td>0.000000</td>\n",
              "      <td>1900-01-01 02:30:48.188879104</td>\n",
              "      <td>2.000000</td>\n",
              "      <td>0.000000</td>\n",
              "    </tr>\n",
              "    <tr>\n",
              "      <th>50%</th>\n",
              "      <td>NaN</td>\n",
              "      <td>NaN</td>\n",
              "      <td>45.700000</td>\n",
              "      <td>29.600000</td>\n",
              "      <td>0.000000</td>\n",
              "      <td>11.005000</td>\n",
              "      <td>0.0</td>\n",
              "      <td>0.0</td>\n",
              "      <td>0.600000</td>\n",
              "      <td>2.000000</td>\n",
              "      <td>...</td>\n",
              "      <td>0.110000</td>\n",
              "      <td>7.000000</td>\n",
              "      <td>22.000000</td>\n",
              "      <td>97.000000</td>\n",
              "      <td>89.000000</td>\n",
              "      <td>29.000000</td>\n",
              "      <td>0.000000</td>\n",
              "      <td>1900-01-01 04:00:46.233681408</td>\n",
              "      <td>4.000000</td>\n",
              "      <td>0.000000</td>\n",
              "    </tr>\n",
              "    <tr>\n",
              "      <th>75%</th>\n",
              "      <td>NaN</td>\n",
              "      <td>NaN</td>\n",
              "      <td>52.725000</td>\n",
              "      <td>32.300000</td>\n",
              "      <td>65.530000</td>\n",
              "      <td>55.992500</td>\n",
              "      <td>0.0</td>\n",
              "      <td>0.0</td>\n",
              "      <td>1.100000</td>\n",
              "      <td>4.000000</td>\n",
              "      <td>...</td>\n",
              "      <td>0.120000</td>\n",
              "      <td>7.400000</td>\n",
              "      <td>23.000000</td>\n",
              "      <td>100.000000</td>\n",
              "      <td>93.000000</td>\n",
              "      <td>52.000000</td>\n",
              "      <td>1.000000</td>\n",
              "      <td>1900-01-01 05:37:00.989231360</td>\n",
              "      <td>5.000000</td>\n",
              "      <td>1.000000</td>\n",
              "    </tr>\n",
              "    <tr>\n",
              "      <th>max</th>\n",
              "      <td>NaN</td>\n",
              "      <td>NaN</td>\n",
              "      <td>97.300000</td>\n",
              "      <td>38.400000</td>\n",
              "      <td>65.530000</td>\n",
              "      <td>65.520000</td>\n",
              "      <td>0.0</td>\n",
              "      <td>0.0</td>\n",
              "      <td>5.000000</td>\n",
              "      <td>7.000000</td>\n",
              "      <td>...</td>\n",
              "      <td>0.210000</td>\n",
              "      <td>8.300000</td>\n",
              "      <td>33.000000</td>\n",
              "      <td>123.000000</td>\n",
              "      <td>116.000000</td>\n",
              "      <td>123.000000</td>\n",
              "      <td>1.000000</td>\n",
              "      <td>1900-01-01 13:03:34.487929</td>\n",
              "      <td>13.000000</td>\n",
              "      <td>2.000000</td>\n",
              "    </tr>\n",
              "    <tr>\n",
              "      <th>std</th>\n",
              "      <td>NaN</td>\n",
              "      <td>NaN</td>\n",
              "      <td>11.594615</td>\n",
              "      <td>4.606203</td>\n",
              "      <td>30.873723</td>\n",
              "      <td>24.924393</td>\n",
              "      <td>0.0</td>\n",
              "      <td>0.0</td>\n",
              "      <td>0.746727</td>\n",
              "      <td>2.202777</td>\n",
              "      <td>...</td>\n",
              "      <td>0.019267</td>\n",
              "      <td>1.240398</td>\n",
              "      <td>7.396645</td>\n",
              "      <td>30.364609</td>\n",
              "      <td>28.248795</td>\n",
              "      <td>31.291224</td>\n",
              "      <td>0.490828</td>\n",
              "      <td>NaN</td>\n",
              "      <td>2.702686</td>\n",
              "      <td>0.518417</td>\n",
              "    </tr>\n",
              "  </tbody>\n",
              "</table>\n",
              "<p>11 rows × 22 columns</p>\n",
              "</div>"
            ],
            "text/plain": [
              "       index                time  1Air Humidity  1AirTemperature   1LightHigh  \\\n",
              "count   1340                1340    1340.000000      1340.000000  1340.000000   \n",
              "unique  1340                1340            NaN              NaN          NaN   \n",
              "top     01_1  01:00:50.174233+00            NaN              NaN          NaN   \n",
              "freq       1                   1            NaN              NaN          NaN   \n",
              "mean     NaN                 NaN      48.565149        28.975373    21.761828   \n",
              "min      NaN                 NaN       0.000000         0.000000     0.000000   \n",
              "25%      NaN                 NaN      41.800000        25.900000     0.000000   \n",
              "50%      NaN                 NaN      45.700000        29.600000     0.000000   \n",
              "75%      NaN                 NaN      52.725000        32.300000    65.530000   \n",
              "max      NaN                 NaN      97.300000        38.400000    65.530000   \n",
              "std      NaN                 NaN      11.594615         4.606203    30.873723   \n",
              "\n",
              "          1LightLow  11Rain Accumulate (mm)  11Rain count  12WindSpeed  \\\n",
              "count   1340.000000                  1340.0        1340.0  1340.000000   \n",
              "unique          NaN                     NaN           NaN          NaN   \n",
              "top             NaN                     NaN           NaN          NaN   \n",
              "freq            NaN                     NaN           NaN          NaN   \n",
              "mean      27.479515                     0.0           0.0     0.751045   \n",
              "min        0.000000                     0.0           0.0     0.000000   \n",
              "25%        5.475000                     0.0           0.0     0.100000   \n",
              "50%       11.005000                     0.0           0.0     0.600000   \n",
              "75%       55.992500                     0.0           0.0     1.100000   \n",
              "max       65.520000                     0.0           0.0     5.000000   \n",
              "std       24.924393                     0.0           0.0     0.746727   \n",
              "\n",
              "        13WindDirection  ...     23SoilEC     23SoilpH          26N  \\\n",
              "count       1340.000000  ...  1340.000000  1340.000000  1340.000000   \n",
              "unique              NaN  ...          NaN          NaN          NaN   \n",
              "top                 NaN  ...          NaN          NaN          NaN   \n",
              "freq                NaN  ...          NaN          NaN          NaN   \n",
              "mean           2.914179  ...     0.118567     6.512910    20.721642   \n",
              "min            0.000000  ...     0.000000     0.000000     0.000000   \n",
              "25%            1.000000  ...     0.110000     5.000000    21.000000   \n",
              "50%            2.000000  ...     0.110000     7.000000    22.000000   \n",
              "75%            4.000000  ...     0.120000     7.400000    23.000000   \n",
              "max            7.000000  ...     0.210000     8.300000    33.000000   \n",
              "std            2.202777  ...     0.019267     1.240398     7.396645   \n",
              "\n",
              "                26P          26K  29SoilTension        flow1  \\\n",
              "count   1340.000000  1340.000000    1340.000000  1340.000000   \n",
              "unique          NaN          NaN            NaN          NaN   \n",
              "top             NaN          NaN            NaN          NaN   \n",
              "freq            NaN          NaN            NaN          NaN   \n",
              "mean      89.968657    83.330597      40.767164     0.403731   \n",
              "min        0.000000     0.000000       0.000000     0.000000   \n",
              "25%       94.000000    87.000000      23.000000     0.000000   \n",
              "50%       97.000000    89.000000      29.000000     0.000000   \n",
              "75%      100.000000    93.000000      52.000000     1.000000   \n",
              "max      123.000000   116.000000     123.000000     1.000000   \n",
              "std       30.364609    28.248795      31.291224     0.490828   \n",
              "\n",
              "                          time_parsed         hour  time_of_day  \n",
              "count                            1340  1340.000000  1340.000000  \n",
              "unique                            NaN          NaN          NaN  \n",
              "top                               NaN          NaN          NaN  \n",
              "freq                              NaN          NaN          NaN  \n",
              "mean    1900-01-01 04:27:40.767920640     3.958955     0.329104  \n",
              "min        1900-01-01 00:26:03.264438     0.000000     0.000000  \n",
              "25%     1900-01-01 02:30:48.188879104     2.000000     0.000000  \n",
              "50%     1900-01-01 04:00:46.233681408     4.000000     0.000000  \n",
              "75%     1900-01-01 05:37:00.989231360     5.000000     1.000000  \n",
              "max        1900-01-01 13:03:34.487929    13.000000     2.000000  \n",
              "std                               NaN     2.702686     0.518417  \n",
              "\n",
              "[11 rows x 22 columns]"
            ]
          },
          "execution_count": 8,
          "metadata": {},
          "output_type": "execute_result"
        }
      ],
      "source": [
        "df.describe(include='all')"
      ]
    },
    {
      "cell_type": "code",
      "execution_count": 9,
      "metadata": {},
      "outputs": [
        {
          "data": {
            "text/plain": [
              "['index',\n",
              " 'time',\n",
              " '1Air Humidity',\n",
              " '1AirTemperature',\n",
              " '1LightHigh',\n",
              " '1LightLow',\n",
              " '11Rain Accumulate (mm)',\n",
              " '11Rain count',\n",
              " '12WindSpeed',\n",
              " '13WindDirection',\n",
              " '23SoilWC ค.ชื้นดิน',\n",
              " '23SoilTemp.อุณหภูมิดิน',\n",
              " '23SoilEC',\n",
              " '23SoilpH',\n",
              " '26N',\n",
              " '26P',\n",
              " '26K',\n",
              " '29SoilTension',\n",
              " 'flow1',\n",
              " 'time_parsed',\n",
              " 'hour',\n",
              " 'time_of_day']"
            ]
          },
          "execution_count": 9,
          "metadata": {},
          "output_type": "execute_result"
        }
      ],
      "source": [
        "list(df)"
      ]
    },
    {
      "cell_type": "code",
      "execution_count": 10,
      "metadata": {
        "id": "n6QUbWIpWJP-"
      },
      "outputs": [],
      "source": [
        "df = df.drop(['index','time','11Rain Accumulate (mm)','11Rain count','time_parsed',],axis=1)"
      ]
    },
    {
      "cell_type": "code",
      "execution_count": 11,
      "metadata": {
        "colab": {
          "base_uri": "https://localhost:8080/",
          "height": 337
        },
        "id": "hjJUQ005WJP_",
        "outputId": "8110260a-6d49-4930-ccfe-48b86054591e"
      },
      "outputs": [
        {
          "data": {
            "text/html": [
              "<div>\n",
              "<style scoped>\n",
              "    .dataframe tbody tr th:only-of-type {\n",
              "        vertical-align: middle;\n",
              "    }\n",
              "\n",
              "    .dataframe tbody tr th {\n",
              "        vertical-align: top;\n",
              "    }\n",
              "\n",
              "    .dataframe thead th {\n",
              "        text-align: right;\n",
              "    }\n",
              "</style>\n",
              "<table border=\"1\" class=\"dataframe\">\n",
              "  <thead>\n",
              "    <tr style=\"text-align: right;\">\n",
              "      <th></th>\n",
              "      <th>1Air Humidity</th>\n",
              "      <th>1AirTemperature</th>\n",
              "      <th>1LightHigh</th>\n",
              "      <th>1LightLow</th>\n",
              "      <th>12WindSpeed</th>\n",
              "      <th>13WindDirection</th>\n",
              "      <th>23SoilWC ค.ชื้นดิน</th>\n",
              "      <th>23SoilTemp.อุณหภูมิดิน</th>\n",
              "      <th>23SoilEC</th>\n",
              "      <th>23SoilpH</th>\n",
              "      <th>26N</th>\n",
              "      <th>26P</th>\n",
              "      <th>26K</th>\n",
              "      <th>29SoilTension</th>\n",
              "      <th>flow1</th>\n",
              "      <th>hour</th>\n",
              "      <th>time_of_day</th>\n",
              "    </tr>\n",
              "  </thead>\n",
              "  <tbody>\n",
              "    <tr>\n",
              "      <th>count</th>\n",
              "      <td>1340.000000</td>\n",
              "      <td>1340.000000</td>\n",
              "      <td>1340.000000</td>\n",
              "      <td>1340.000000</td>\n",
              "      <td>1340.000000</td>\n",
              "      <td>1340.000000</td>\n",
              "      <td>1340.000000</td>\n",
              "      <td>1340.000000</td>\n",
              "      <td>1340.000000</td>\n",
              "      <td>1340.000000</td>\n",
              "      <td>1340.000000</td>\n",
              "      <td>1340.000000</td>\n",
              "      <td>1340.000000</td>\n",
              "      <td>1340.000000</td>\n",
              "      <td>1340.000000</td>\n",
              "      <td>1340.000000</td>\n",
              "      <td>1340.000000</td>\n",
              "    </tr>\n",
              "    <tr>\n",
              "      <th>mean</th>\n",
              "      <td>48.565149</td>\n",
              "      <td>28.975373</td>\n",
              "      <td>21.761828</td>\n",
              "      <td>27.479515</td>\n",
              "      <td>0.751045</td>\n",
              "      <td>2.914179</td>\n",
              "      <td>34.977164</td>\n",
              "      <td>21.970224</td>\n",
              "      <td>0.118567</td>\n",
              "      <td>6.512910</td>\n",
              "      <td>20.721642</td>\n",
              "      <td>89.968657</td>\n",
              "      <td>83.330597</td>\n",
              "      <td>40.767164</td>\n",
              "      <td>0.403731</td>\n",
              "      <td>3.958955</td>\n",
              "      <td>0.329104</td>\n",
              "    </tr>\n",
              "    <tr>\n",
              "      <th>std</th>\n",
              "      <td>11.594615</td>\n",
              "      <td>4.606203</td>\n",
              "      <td>30.873723</td>\n",
              "      <td>24.924393</td>\n",
              "      <td>0.746727</td>\n",
              "      <td>2.202777</td>\n",
              "      <td>19.713135</td>\n",
              "      <td>1.738520</td>\n",
              "      <td>0.019267</td>\n",
              "      <td>1.240398</td>\n",
              "      <td>7.396645</td>\n",
              "      <td>30.364609</td>\n",
              "      <td>28.248795</td>\n",
              "      <td>31.291224</td>\n",
              "      <td>0.490828</td>\n",
              "      <td>2.702686</td>\n",
              "      <td>0.518417</td>\n",
              "    </tr>\n",
              "    <tr>\n",
              "      <th>min</th>\n",
              "      <td>0.000000</td>\n",
              "      <td>0.000000</td>\n",
              "      <td>0.000000</td>\n",
              "      <td>0.000000</td>\n",
              "      <td>0.000000</td>\n",
              "      <td>0.000000</td>\n",
              "      <td>0.000000</td>\n",
              "      <td>0.000000</td>\n",
              "      <td>0.000000</td>\n",
              "      <td>0.000000</td>\n",
              "      <td>0.000000</td>\n",
              "      <td>0.000000</td>\n",
              "      <td>0.000000</td>\n",
              "      <td>0.000000</td>\n",
              "      <td>0.000000</td>\n",
              "      <td>0.000000</td>\n",
              "      <td>0.000000</td>\n",
              "    </tr>\n",
              "    <tr>\n",
              "      <th>25%</th>\n",
              "      <td>41.800000</td>\n",
              "      <td>25.900000</td>\n",
              "      <td>0.000000</td>\n",
              "      <td>5.475000</td>\n",
              "      <td>0.100000</td>\n",
              "      <td>1.000000</td>\n",
              "      <td>31.400000</td>\n",
              "      <td>21.500000</td>\n",
              "      <td>0.110000</td>\n",
              "      <td>5.000000</td>\n",
              "      <td>21.000000</td>\n",
              "      <td>94.000000</td>\n",
              "      <td>87.000000</td>\n",
              "      <td>23.000000</td>\n",
              "      <td>0.000000</td>\n",
              "      <td>2.000000</td>\n",
              "      <td>0.000000</td>\n",
              "    </tr>\n",
              "    <tr>\n",
              "      <th>50%</th>\n",
              "      <td>45.700000</td>\n",
              "      <td>29.600000</td>\n",
              "      <td>0.000000</td>\n",
              "      <td>11.005000</td>\n",
              "      <td>0.600000</td>\n",
              "      <td>2.000000</td>\n",
              "      <td>36.900000</td>\n",
              "      <td>22.000000</td>\n",
              "      <td>0.110000</td>\n",
              "      <td>7.000000</td>\n",
              "      <td>22.000000</td>\n",
              "      <td>97.000000</td>\n",
              "      <td>89.000000</td>\n",
              "      <td>29.000000</td>\n",
              "      <td>0.000000</td>\n",
              "      <td>4.000000</td>\n",
              "      <td>0.000000</td>\n",
              "    </tr>\n",
              "    <tr>\n",
              "      <th>75%</th>\n",
              "      <td>52.725000</td>\n",
              "      <td>32.300000</td>\n",
              "      <td>65.530000</td>\n",
              "      <td>55.992500</td>\n",
              "      <td>1.100000</td>\n",
              "      <td>4.000000</td>\n",
              "      <td>42.500000</td>\n",
              "      <td>23.100000</td>\n",
              "      <td>0.120000</td>\n",
              "      <td>7.400000</td>\n",
              "      <td>23.000000</td>\n",
              "      <td>100.000000</td>\n",
              "      <td>93.000000</td>\n",
              "      <td>52.000000</td>\n",
              "      <td>1.000000</td>\n",
              "      <td>5.000000</td>\n",
              "      <td>1.000000</td>\n",
              "    </tr>\n",
              "    <tr>\n",
              "      <th>max</th>\n",
              "      <td>97.300000</td>\n",
              "      <td>38.400000</td>\n",
              "      <td>65.530000</td>\n",
              "      <td>65.520000</td>\n",
              "      <td>5.000000</td>\n",
              "      <td>7.000000</td>\n",
              "      <td>80.200000</td>\n",
              "      <td>23.700000</td>\n",
              "      <td>0.210000</td>\n",
              "      <td>8.300000</td>\n",
              "      <td>33.000000</td>\n",
              "      <td>123.000000</td>\n",
              "      <td>116.000000</td>\n",
              "      <td>123.000000</td>\n",
              "      <td>1.000000</td>\n",
              "      <td>13.000000</td>\n",
              "      <td>2.000000</td>\n",
              "    </tr>\n",
              "  </tbody>\n",
              "</table>\n",
              "</div>"
            ],
            "text/plain": [
              "       1Air Humidity  1AirTemperature   1LightHigh    1LightLow  12WindSpeed  \\\n",
              "count    1340.000000      1340.000000  1340.000000  1340.000000  1340.000000   \n",
              "mean       48.565149        28.975373    21.761828    27.479515     0.751045   \n",
              "std        11.594615         4.606203    30.873723    24.924393     0.746727   \n",
              "min         0.000000         0.000000     0.000000     0.000000     0.000000   \n",
              "25%        41.800000        25.900000     0.000000     5.475000     0.100000   \n",
              "50%        45.700000        29.600000     0.000000    11.005000     0.600000   \n",
              "75%        52.725000        32.300000    65.530000    55.992500     1.100000   \n",
              "max        97.300000        38.400000    65.530000    65.520000     5.000000   \n",
              "\n",
              "       13WindDirection  23SoilWC ค.ชื้นดิน  23SoilTemp.อุณหภูมิดิน  \\\n",
              "count      1340.000000         1340.000000             1340.000000   \n",
              "mean          2.914179           34.977164               21.970224   \n",
              "std           2.202777           19.713135                1.738520   \n",
              "min           0.000000            0.000000                0.000000   \n",
              "25%           1.000000           31.400000               21.500000   \n",
              "50%           2.000000           36.900000               22.000000   \n",
              "75%           4.000000           42.500000               23.100000   \n",
              "max           7.000000           80.200000               23.700000   \n",
              "\n",
              "          23SoilEC     23SoilpH          26N          26P          26K  \\\n",
              "count  1340.000000  1340.000000  1340.000000  1340.000000  1340.000000   \n",
              "mean      0.118567     6.512910    20.721642    89.968657    83.330597   \n",
              "std       0.019267     1.240398     7.396645    30.364609    28.248795   \n",
              "min       0.000000     0.000000     0.000000     0.000000     0.000000   \n",
              "25%       0.110000     5.000000    21.000000    94.000000    87.000000   \n",
              "50%       0.110000     7.000000    22.000000    97.000000    89.000000   \n",
              "75%       0.120000     7.400000    23.000000   100.000000    93.000000   \n",
              "max       0.210000     8.300000    33.000000   123.000000   116.000000   \n",
              "\n",
              "       29SoilTension        flow1         hour  time_of_day  \n",
              "count    1340.000000  1340.000000  1340.000000  1340.000000  \n",
              "mean       40.767164     0.403731     3.958955     0.329104  \n",
              "std        31.291224     0.490828     2.702686     0.518417  \n",
              "min         0.000000     0.000000     0.000000     0.000000  \n",
              "25%        23.000000     0.000000     2.000000     0.000000  \n",
              "50%        29.000000     0.000000     4.000000     0.000000  \n",
              "75%        52.000000     1.000000     5.000000     1.000000  \n",
              "max       123.000000     1.000000    13.000000     2.000000  "
            ]
          },
          "execution_count": 11,
          "metadata": {},
          "output_type": "execute_result"
        }
      ],
      "source": [
        "df.describe(include='all')"
      ]
    },
    {
      "cell_type": "code",
      "execution_count": 17,
      "metadata": {},
      "outputs": [
        {
          "name": "stdout",
          "output_type": "stream",
          "text": [
            "{0.0, 1.0, 2.0}\n"
          ]
        }
      ],
      "source": [
        "print(set(df['time_of_day']))"
      ]
    },
    {
      "cell_type": "markdown",
      "metadata": {
        "id": "xiBJV0roWJP_"
      },
      "source": [
        "<hr>"
      ]
    },
    {
      "cell_type": "markdown",
      "metadata": {
        "id": "BarQf-jlWJQA"
      },
      "source": [
        "<h4>03 Exploratory Data Analysis (EDA)</h4>"
      ]
    },
    {
      "cell_type": "code",
      "execution_count": null,
      "metadata": {
        "id": "nYoss1fUWJQM"
      },
      "outputs": [],
      "source": [
        "import seaborn as sns\n",
        "import matplotlib.pyplot as plt"
      ]
    },
    {
      "cell_type": "code",
      "execution_count": null,
      "metadata": {
        "colab": {
          "base_uri": "https://localhost:8080/"
        },
        "id": "Rd8m3L1lWJQM",
        "outputId": "fdfa29e2-ac4e-4692-f6c4-923e8e2d7b00"
      },
      "outputs": [],
      "source": [
        "df.info()"
      ]
    },
    {
      "cell_type": "code",
      "execution_count": null,
      "metadata": {
        "colab": {
          "base_uri": "https://localhost:8080/",
          "height": 557
        },
        "id": "FPPtO7EQWJQM",
        "outputId": "da778e52-18ff-454c-f72b-5a22a8c1357f"
      },
      "outputs": [],
      "source": [
        "df.describe().T"
      ]
    },
    {
      "cell_type": "code",
      "execution_count": null,
      "metadata": {
        "id": "5DJOPpyAWJQN"
      },
      "outputs": [],
      "source": [
        "# # Pair Plot\n",
        "# sns.pairplot(df)\n",
        "# plt.show()"
      ]
    },
    {
      "cell_type": "code",
      "execution_count": null,
      "metadata": {
        "id": "dcv0gU_AWJQN"
      },
      "outputs": [],
      "source": [
        "def remove_outliers(df):\n",
        "    cleaned_data = df.copy()\n",
        "    for col in df.columns:\n",
        "        if pd.api.types.is_numeric_dtype(df[col]):\n",
        "            q1 = df[col].quantile(0.25)\n",
        "            q3 = df[col].quantile(0.75)\n",
        "            iqr = q3 - q1\n",
        "            lower_bound = q1 - 1.5 * iqr\n",
        "            upper_bound = q3 + 1.5 * iqr\n",
        "            cleaned_data = cleaned_data[(cleaned_data[col] >= lower_bound) & (cleaned_data[col] <= upper_bound)]\n",
        "    return cleaned_data"
      ]
    },
    {
      "cell_type": "code",
      "execution_count": null,
      "metadata": {
        "colab": {
          "base_uri": "https://localhost:8080/",
          "height": 461
        },
        "id": "0H5Rq4pfWJQN",
        "outputId": "027c642e-7934-4621-be49-6fa9079bad02"
      },
      "outputs": [],
      "source": [
        "# Remove outliers from the dataset\n",
        "df = remove_outliers(df)\n",
        "df"
      ]
    },
    {
      "cell_type": "code",
      "execution_count": null,
      "metadata": {
        "colab": {
          "base_uri": "https://localhost:8080/",
          "height": 557
        },
        "id": "1Z6NsUT2WJQN",
        "outputId": "df63e12e-7596-4be9-eeee-6c56aa16e425"
      },
      "outputs": [],
      "source": [
        "df.describe().T"
      ]
    },
    {
      "cell_type": "code",
      "execution_count": null,
      "metadata": {
        "id": "qNr-0cbrWJQO"
      },
      "outputs": [],
      "source": [
        "# # Pair Plot\n",
        "# sns.pairplot(df)\n",
        "# plt.show()"
      ]
    },
    {
      "cell_type": "markdown",
      "metadata": {
        "id": "Zn6HBnvvWJQO"
      },
      "source": [
        "<h4>04 Feature Engineering</h4>"
      ]
    },
    {
      "cell_type": "code",
      "execution_count": null,
      "metadata": {
        "colab": {
          "base_uri": "https://localhost:8080/"
        },
        "id": "JgLx42KpWJQO",
        "outputId": "c094cf50-7e12-4408-bd9b-76843c54c95f"
      },
      "outputs": [],
      "source": [
        "df.columns"
      ]
    },
    {
      "cell_type": "code",
      "execution_count": null,
      "metadata": {
        "colab": {
          "base_uri": "https://localhost:8080/",
          "height": 461
        },
        "id": "TtGJGtQvWJQO",
        "outputId": "7a2d6314-9530-4369-c07d-676e061bfd13"
      },
      "outputs": [],
      "source": [
        "df"
      ]
    },
    {
      "cell_type": "markdown",
      "metadata": {
        "id": "B1oy-7uDWJQO"
      },
      "source": [
        "<h5>Feature Importance</h5>"
      ]
    },
    {
      "cell_type": "code",
      "execution_count": null,
      "metadata": {
        "colab": {
          "base_uri": "https://localhost:8080/"
        },
        "id": "596GJthiWJQa",
        "outputId": "b183a629-61d3-4ac8-cb65-59158765010d"
      },
      "outputs": [],
      "source": [
        "dfx = df\n",
        "list(dfx)"
      ]
    },
    {
      "cell_type": "code",
      "execution_count": null,
      "metadata": {
        "id": "ul-LTBcwWJQb"
      },
      "outputs": [],
      "source": [
        "# dfx = dfx.drop(['index','time','11Rain Accumulate (mm)','11Rain count'],axis=1)\n",
        "dfx = df"
      ]
    },
    {
      "cell_type": "markdown",
      "metadata": {
        "id": "S-pZ-mspWJQb"
      },
      "source": [
        "<h5>relationship</h5>"
      ]
    },
    {
      "cell_type": "code",
      "execution_count": null,
      "metadata": {
        "colab": {
          "base_uri": "https://localhost:8080/",
          "height": 574
        },
        "id": "EY7FRgK2WJQb",
        "outputId": "959a7f60-4455-4022-958a-5bb348e3ed5c"
      },
      "outputs": [],
      "source": [
        "dfx.corr().style.format(\"{:.4}\").background_gradient(cmap=plt.get_cmap('coolwarm'), axis=1)"
      ]
    },
    {
      "cell_type": "code",
      "execution_count": null,
      "metadata": {
        "colab": {
          "base_uri": "https://localhost:8080/"
        },
        "id": "57oknBDkWJQb",
        "outputId": "220a9fb8-fb53-4f3f-baf2-059650b38223"
      },
      "outputs": [],
      "source": [
        "x = {'1Air Humidity':-0.1601,\n",
        "'1AirTemperature':0.3111,\n",
        "'1LightHigh':0.06379,\n",
        "'1LightLow':0.1204,\n",
        "'12WindSpeed':-0.1083,\n",
        "'13WindDirection':0.08821,\n",
        "'23SoilWC ค.ชื้นดิน':1,\n",
        "'23SoilTemp.อุณหภูมิดิน':0.2677,\n",
        "'23SoilEC':0.4955,\n",
        "'23SoilpH':0.1313,\n",
        "'26N':0.3578,\n",
        "'26P':0.4464,\n",
        "'26K':0.426,\n",
        "'29SoilTension':-0.1967,\n",
        "'flow1':-0.2115,\n",
        "}\n",
        "# Sort the dictionary by its values\n",
        "sorted_x = dict(sorted(x.items(), key=lambda item: item[-1],reverse=True))\n",
        "\n",
        "sorted_x"
      ]
    },
    {
      "cell_type": "raw",
      "metadata": {
        "id": "R2QAh1bNWJQc"
      },
      "source": [
        "# ['index',\n",
        "#  'time',\n",
        "#  '1Air Humidity',\n",
        "#  '1AirTemperature',\n",
        "#  '1LightHigh',\n",
        "#  '1LightLow',\n",
        "#  '11Rain Accumulate (mm)',\n",
        "#  '11Rain count',\n",
        "#  '12WindSpeed',\n",
        "#  '13WindDirection',\n",
        "#  '23SoilWC ค.ชื้นดิน',\n",
        "#  '23SoilTemp.อุณหภูมิดิน',\n",
        "#  '23SoilEC',\n",
        "#  '23SoilpH',\n",
        "#  '26N',\n",
        "#  '26P',\n",
        "#  '26K',\n",
        "#  '29SoilTension',\n",
        "#  'flow1']"
      ]
    },
    {
      "cell_type": "raw",
      "metadata": {},
      "source": [
        " \n"
      ]
    },
    {
      "cell_type": "code",
      "execution_count": null,
      "metadata": {
        "id": "FAWoi6hqWJQc"
      },
      "outputs": [],
      "source": [
        "# X = dfx[['1Air Humidity', '1AirTemperature', '1LightHigh',\n",
        "#                 '1LightLow','12WindSpeed',\n",
        "#                 '23SoilEC', '23SoilpH', '23SoilTemp.อุณหภูมิดิน',  '26N', '26P', '26K',\n",
        "#                 '29SoilTension', 'flow1']]\n",
        "\n",
        "X = dfx[['26P', '26K', '26N', '1AirTemperature', '23SoilTemp.อุณหภูมิดิน','23SoilpH', '1LightLow']]     \n",
        "# X = dfx[['23SoilEC', '26P', '26K', '1AirTemperature', '23SoilpH', '1LightLow']]       #  'XGBoost': 1.1382227172851562,    \n",
        "# X = dfx[['23SoilEC','26P','26K','26N','1AirTemperature','23SoilTemp.อุณหภูมิดิน','23SoilpH','1LightLow']]  #'XGBoost': 1.1545134582519532,\n",
        "\n",
        "y = df[['23SoilWC ค.ชื้นดิน']]"
      ]
    },
    {
      "cell_type": "code",
      "execution_count": null,
      "metadata": {
        "colab": {
          "base_uri": "https://localhost:8080/",
          "height": 461
        },
        "id": "BGoxyc4NWJQc",
        "outputId": "ea29aa00-6e6f-475d-aee9-8d015a79c09c"
      },
      "outputs": [],
      "source": [
        "X"
      ]
    },
    {
      "cell_type": "code",
      "execution_count": null,
      "metadata": {
        "colab": {
          "base_uri": "https://localhost:8080/",
          "height": 423
        },
        "id": "Bl6rESm-WJQd",
        "outputId": "2305419d-f520-48af-bedd-14eae4210538"
      },
      "outputs": [],
      "source": [
        "y"
      ]
    },
    {
      "cell_type": "markdown",
      "metadata": {
        "id": "8puNfyBqWJQd"
      },
      "source": [
        "<hr>"
      ]
    },
    {
      "cell_type": "code",
      "execution_count": null,
      "metadata": {
        "id": "l_Jp3ULAWJQe"
      },
      "outputs": [],
      "source": [
        "from sklearn.model_selection import train_test_split"
      ]
    },
    {
      "cell_type": "code",
      "execution_count": null,
      "metadata": {
        "colab": {
          "base_uri": "https://localhost:8080/"
        },
        "id": "eDUrcd7oWJQe",
        "outputId": "aa10c30c-01c0-46cd-85cb-1c625ddd492e"
      },
      "outputs": [],
      "source": [
        "X_train, X_test, y_train, y_test = train_test_split(X, y, test_size = 0.078, random_state = 99)\n",
        "X_train.shape, X_test.shape"
      ]
    },
    {
      "cell_type": "markdown",
      "metadata": {
        "id": "lxS79te2WJQj"
      },
      "source": [
        "<h4>Scaling?</h4>"
      ]
    },
    {
      "cell_type": "code",
      "execution_count": null,
      "metadata": {
        "id": "inbgngJaWJQk"
      },
      "outputs": [],
      "source": [
        "from sklearn.preprocessing import RobustScaler"
      ]
    },
    {
      "cell_type": "code",
      "execution_count": null,
      "metadata": {
        "id": "gcyk7pmCWJQk"
      },
      "outputs": [],
      "source": [
        "cols = X_train.columns"
      ]
    },
    {
      "cell_type": "code",
      "execution_count": null,
      "metadata": {
        "colab": {
          "base_uri": "https://localhost:8080/",
          "height": 461
        },
        "id": "Mfp9EcUVWJQk",
        "outputId": "cc853fad-2d17-46eb-e163-4ebb069d9266"
      },
      "outputs": [],
      "source": [
        "X_train"
      ]
    },
    {
      "cell_type": "code",
      "execution_count": null,
      "metadata": {
        "id": "6OdBDE-eWJQk"
      },
      "outputs": [],
      "source": [
        "# scaler = RobustScaler()\n",
        "# X_train = scaler.fit_transform(X_train)\n",
        "# X_test = scaler.transform(X_test)"
      ]
    },
    {
      "cell_type": "code",
      "execution_count": null,
      "metadata": {
        "id": "XWsrTRY6WJQk"
      },
      "outputs": [],
      "source": [
        "# X_train = pd.DataFrame(X_train, columns=[cols])\n",
        "# X_test = pd.DataFrame(X_test, columns=[cols])"
      ]
    },
    {
      "cell_type": "code",
      "execution_count": null,
      "metadata": {
        "id": "qDqOrF7-WJQl"
      },
      "outputs": [],
      "source": [
        "# 10/0"
      ]
    },
    {
      "cell_type": "markdown",
      "metadata": {
        "id": "7a-a_8tLWJQl"
      },
      "source": [
        "<hr>"
      ]
    },
    {
      "cell_type": "markdown",
      "metadata": {
        "id": "JhNavBHYWJQl"
      },
      "source": [
        "<h4>05 Model Selection</h4>"
      ]
    },
    {
      "cell_type": "code",
      "execution_count": null,
      "metadata": {
        "id": "WqPcXGsEWJQl"
      },
      "outputs": [],
      "source": [
        "from sklearn.model_selection import train_test_split, GridSearchCV\n",
        "from sklearn.ensemble import GradientBoostingRegressor, RandomForestRegressor\n",
        "\n",
        "from sklearn.linear_model import LinearRegression, Ridge, Lasso, ElasticNet\n",
        "from sklearn.preprocessing import PolynomialFeatures\n",
        "from sklearn.pipeline import Pipeline\n",
        "\n",
        "from sklearn.svm import SVR\n",
        "from sklearn.tree import DecisionTreeRegressor\n",
        "from sklearn.linear_model import BayesianRidge\n",
        "import xgboost as xgb\n",
        "import lightgbm as lgb\n",
        "from sklearn.metrics import mean_absolute_error\n",
        "\n",
        "\n",
        "from sklearn.gaussian_process import GaussianProcessRegressor\n",
        "from sklearn.gaussian_process.kernels import RBF, DotProduct\n",
        "from sklearn.neighbors import KNeighborsRegressor\n",
        "from sklearn.neural_network import MLPRegressor\n",
        "from pygam import LinearGAM, s, f\n",
        "import statsmodels.api as sm\n",
        "from sklearn.preprocessing import StandardScaler\n"
      ]
    },
    {
      "cell_type": "code",
      "execution_count": null,
      "metadata": {
        "colab": {
          "base_uri": "https://localhost:8080/"
        },
        "id": "rz4YMdr3WJQl",
        "outputId": "1e3db16c-e7b5-42c7-afc7-78394ea680dc"
      },
      "outputs": [],
      "source": [
        "# 07 Decision Tree Regression\n",
        "dt_param_grid = {\n",
        "    'max_depth': [None, 10, 20, 30],\n",
        "    'min_samples_split': [2, 10, 20]\n",
        "}\n",
        "dt_grid_search = GridSearchCV(DecisionTreeRegressor(), dt_param_grid, cv=5, scoring='neg_mean_absolute_error')\n",
        "dt_grid_search.fit(X_train, y_train)\n",
        "dt_best = dt_grid_search.best_estimator_\n",
        "dt_predictions = dt_best.predict(X_test)\n",
        "dt_mae = mean_absolute_error(y_test, dt_predictions)\n",
        "print(f'Decision Tree MSE: {dt_mae}, Best Params: {dt_grid_search.best_params_}')\n",
        "\n",
        "#####################################################################################################################################\n",
        "# from sklearn.tree import DecisionTreeRegressor\n",
        "# from sklearn.model_selection import GridSearchCV\n",
        "# from sklearn.metrics import mean_absolute_error\n",
        "\n",
        "# # Expanded hyperparameter grid\n",
        "# dt_param_grid = {\n",
        "#     'max_depth': [None, 10, 20, 30, 40],\n",
        "#     'min_samples_split': [2, 10, 20, 30],\n",
        "#     'min_samples_leaf': [1, 2, 4, 6],  # Minimum number of samples required at each leaf node\n",
        "#     'max_features': ['auto', 'sqrt', 'log2', None],  # Number of features to consider when looking for the best split\n",
        "#     'ccp_alpha': [0.0, 0.01, 0.1]  # Complexity parameter used for Minimal Cost-Complexity Pruning\n",
        "# }\n",
        "\n",
        "# # Grid Search with Cross-Validation\n",
        "# dt_grid_search = GridSearchCV(DecisionTreeRegressor(random_state=42), dt_param_grid, cv=5, scoring='neg_mean_absolute_error')\n",
        "# dt_grid_search.fit(X_train, y_train)\n",
        "\n",
        "# # Best model and predictions\n",
        "# dt_best = dt_grid_search.best_estimator_\n",
        "# dt_predictions = dt_best.predict(X_test)\n",
        "\n",
        "# # Evaluate performance\n",
        "# dt_mae = mean_absolute_error(y_test, dt_predictions)\n",
        "# print(f'Decision Tree MAE: {dt_mae}, Best Params: {dt_grid_search.best_params_}')"
      ]
    },
    {
      "cell_type": "code",
      "execution_count": null,
      "metadata": {
        "colab": {
          "base_uri": "https://localhost:8080/"
        },
        "id": "PbO4Gh_2WJQl",
        "outputId": "f8ee1cae-4921-4a80-990f-d608e0147aa9"
      },
      "outputs": [],
      "source": [
        "# 08 Random Forest Regressor\n",
        "from sklearn.ensemble import RandomForestRegressor\n",
        "\n",
        "rfr = RandomForestRegressor()\n",
        "rfr_param_grid = {\n",
        "    'n_estimators': [50, 100, 200],\n",
        "    'max_depth': [None, 5, 10]\n",
        "}\n",
        "rfr_grid_search = GridSearchCV(rfr, rfr_param_grid, cv=5, scoring='neg_mean_absolute_error')\n",
        "rfr_grid_search.fit(X_train, y_train)\n",
        "rfr_best = rfr_grid_search.best_estimator_\n",
        "rfr_predictions = rfr_best.predict(X_test)\n",
        "rfr_mae = mean_absolute_error(y_test, rfr_predictions)\n",
        "print(\"Random Forest Regressor mae:\", rfr_mae)\n",
        "\n",
        "#####################################################################################################################################\n",
        "# # Enhanced hyperparameter grid\n",
        "# rfr_param_grid = {\n",
        "#     'n_estimators': [100, 200, 300],  # More options for the number of trees\n",
        "#     'max_depth': [None, 5, 10, 20],  # Additional depth options for tree growth\n",
        "#     'min_samples_split': [2, 5, 10],  # Minimum number of samples required to split an internal node\n",
        "#     'min_samples_leaf': [1, 2, 4],  # Minimum number of samples required to be at a leaf node\n",
        "#     'max_features': ['auto', 'sqrt', 'log2'],  # Number of features to consider when looking for the best split\n",
        "# }\n",
        "\n",
        "# # Grid Search with Cross-Validation\n",
        "# rfr_grid_search = GridSearchCV(RandomForestRegressor(random_state=42), rfr_param_grid, cv=5, scoring='neg_mean_absolute_error')\n",
        "# rfr_grid_search.fit(X_train, y_train)\n",
        "\n",
        "# # Best model and predictions\n",
        "# rfr_best = rfr_grid_search.best_estimator_\n",
        "# rfr_predictions = rfr_best.predict(X_test)\n",
        "\n",
        "# # Evaluate performance\n",
        "# rfr_mae = mean_absolute_error(y_test, rfr_predictions)\n",
        "# print(f'Random Forest Regressor MAE: {rfr_mae}, Best Params: {rfr_grid_search.best_params_}')\n"
      ]
    },
    {
      "cell_type": "code",
      "execution_count": null,
      "metadata": {
        "colab": {
          "base_uri": "https://localhost:8080/"
        },
        "id": "RJaf93J1WJQm",
        "outputId": "33744312-52b4-499f-84f8-2bbeb59425d9"
      },
      "outputs": [],
      "source": [
        "# 09 Gradient Boosting Regression (XGBoost)\n",
        "import xgboost as xgb\n",
        "\n",
        "xgb_param_grid = {\n",
        "    'n_estimators': [100, 200],\n",
        "    'learning_rate': [0.01, 0.1],\n",
        "    'max_depth': [3, 6, 9]\n",
        "}\n",
        "xgb_grid_search = GridSearchCV(xgb.XGBRegressor(), xgb_param_grid, cv=5, scoring='neg_mean_absolute_error')\n",
        "xgb_grid_search.fit(X_train, y_train)\n",
        "xgb_best = xgb_grid_search.best_estimator_\n",
        "xgb_predictions = xgb_best.predict(X_test)\n",
        "xgb_mae = mean_absolute_error(y_test, xgb_predictions)\n",
        "print(f'XGBoost MSE: {xgb_mae}, Best Params: {xgb_grid_search.best_params_}')\n",
        "#####################################################################################################################################\n",
        "# # Extended hyperparameter grid\n",
        "# xgb_param_grid = {\n",
        "#     'n_estimators': [100, 200, 300],\n",
        "#     'learning_rate': [0.01, 0.05, 0.1, 0.2],\n",
        "#     'max_depth': [3, 6, 9, 12],\n",
        "#     'subsample': [0.6, 0.8, 1.0],  # Fraction of observations to be randomly sampled for each tree.\n",
        "#     'colsample_bytree': [0.6, 0.8, 1.0],  # Fraction of features to be randomly sampled for each tree.\n",
        "#     'gamma': [0, 0.1, 0.2]  # Minimum loss reduction required to make a further partition on a leaf node.\n",
        "# }\n",
        "\n",
        "# # Grid Search with Cross-Validation\n",
        "# xgb_grid_search = GridSearchCV(xgb.XGBRegressor(objective='reg:squarederror', random_state=42), xgb_param_grid, cv=5, scoring='neg_mean_absolute_error')\n",
        "# xgb_grid_search.fit(X_train, y_train)\n",
        "\n",
        "# # Best model and predictions\n",
        "# xgb_best = xgb_grid_search.best_estimator_\n",
        "# xgb_predictions = xgb_best.predict(X_test)\n",
        "\n",
        "# # Evaluate performance\n",
        "# xgb_mae = mean_absolute_error(y_test, xgb_predictions)\n",
        "# print(f'XGBoost MAE: {xgb_mae}, Best Params: {xgb_grid_search.best_params_}')\n"
      ]
    },
    {
      "cell_type": "code",
      "execution_count": null,
      "metadata": {
        "colab": {
          "base_uri": "https://localhost:8080/"
        },
        "id": "1BvTj9URWJQm",
        "outputId": "52c01b08-9fd2-480c-81d7-19b18c0ddbf0"
      },
      "outputs": [],
      "source": [
        "# Gradient Boosting Regression Trees\n",
        "gbrt = GradientBoostingRegressor()\n",
        "gbrt_param_grid = {\n",
        "    'n_estimators': [50, 100, 200],\n",
        "    'learning_rate': [0.05, 0.1, 0.2]\n",
        "    }\n",
        "gbrt_grid_search = GridSearchCV(gbrt, gbrt_param_grid, cv=5, scoring='neg_mean_absolute_error')\n",
        "gbrt_grid_search.fit(X_train, y_train)\n",
        "gbrt_best = gbrt_grid_search.best_estimator_\n",
        "gbrt_predictions = gbrt_best.predict(X_test)\n",
        "gbrt_mae = mean_absolute_error(y_test, gbrt_predictions)\n",
        "print(f\"{gbrt_mae} Gradient Boosting Regression\")\n"
      ]
    },
    {
      "cell_type": "code",
      "execution_count": null,
      "metadata": {
        "colab": {
          "base_uri": "https://localhost:8080/"
        },
        "id": "HrHjCYcDWJQn",
        "outputId": "6ecda5ea-98d1-4338-99d5-c50c540882ad"
      },
      "outputs": [],
      "source": [
        "# 10 Gradient Boosting Regression (LightGBM)\n",
        "import lightgbm as lgb\n",
        "\n",
        "lgb_param_grid = {\n",
        "    'n_estimators': [100, 200, 300],\n",
        "    'learning_rate': [0.01, 0.05, 0.1],\n",
        "    'max_depth':[3, 6, 9, -1],\n",
        "    'num_leaves': [31, 62, 127, 255]\n",
        "}\n",
        "lgb_grid_search = GridSearchCV(lgb.LGBMRegressor(), lgb_param_grid, cv=5, scoring='neg_mean_absolute_error')\n",
        "lgb_grid_search.fit(X_train, y_train)\n",
        "lgb_best = lgb_grid_search.best_estimator_\n",
        "lgb_predictions = lgb_best.predict(X_test)\n",
        "lgb_mae = mean_absolute_error(y_test, lgb_predictions)\n",
        "\n",
        "print(f\"{lgb_mae} Gradient Boosting Regression\")\n",
        "# #####################################################################################################################################\n",
        "\n"
      ]
    },
    {
      "cell_type": "code",
      "execution_count": null,
      "metadata": {
        "colab": {
          "base_uri": "https://localhost:8080/"
        },
        "id": "1XgoPkoiWJQt",
        "outputId": "49d70bbc-ab07-44b0-af31-0900be1607f7"
      },
      "outputs": [],
      "source": [
        "# K-Nearest Neighbors Regression (KNN)\n",
        "\n",
        "from sklearn.neighbors import KNeighborsRegressor\n",
        "from sklearn.metrics import mean_absolute_error\n",
        "from sklearn.preprocessing import StandardScaler\n",
        "from sklearn.decomposition import PCA\n",
        "\n",
        "knn_param_grid = {\n",
        "    'n_neighbors': [3, 5, 7],\n",
        "    'weights': ['uniform', 'distance'],\n",
        "    'algorithm': ['auto', 'ball_tree', 'kd_tree', 'brute']\n",
        "}\n",
        "knn_grid_search = GridSearchCV(KNeighborsRegressor(), knn_param_grid, cv=5, scoring='neg_mean_absolute_error')\n",
        "knn_grid_search.fit(X_train, y_train)\n",
        "knn_best = knn_grid_search.best_estimator_\n",
        "knn_predictions = knn_best.predict(X_test)\n",
        "knn_mae = mean_absolute_error(y_test, knn_predictions)\n",
        "print(f'KNN Regression MAE: {knn_mae}, Best Params: {knn_grid_search.best_params_}')\n",
        "\n",
        "#####################################################################################################################################\n",
        "# # Scale the features\n",
        "# scaler = StandardScaler()\n",
        "# X_train_scaled = scaler.fit_transform(X_train)\n",
        "# X_test_scaled = scaler.transform(X_test)\n",
        "\n",
        "# # Optionally apply PCA for dimensionality reduction\n",
        "# # pca = PCA(n_components='mle')  # mle lets PCA decide the number of components to keep\n",
        "# # X_train_scaled = pca.fit_transform(X_train_scaled)\n",
        "# # X_test_scaled = pca.transform(X_test_scaled)\n",
        "\n",
        "# # Expanded hyperparameter grid\n",
        "# knn_param_grid = {\n",
        "#     'n_neighbors': range(1, 10),  # Consider testing a broader range of neighbors\n",
        "#     'weights': ['uniform', 'distance'],\n",
        "#     'algorithm': ['auto', 'ball_tree', 'kd_tree', 'brute'],\n",
        "#     # 'metric': ['euclidean', 'manhattan', 'minkowski'],  # Optional: Explore different distance metrics\n",
        "# }\n",
        "\n",
        "# # Grid Search with Cross-Validation\n",
        "# knn_grid_search = GridSearchCV(KNeighborsRegressor(), knn_param_grid, cv=5, scoring='neg_mean_absolute_error')\n",
        "# knn_grid_search.fit(X_train_scaled, y_train)\n",
        "\n",
        "# # Best model and predictions\n",
        "# knn_best = knn_grid_search.best_estimator_\n",
        "# knn_predictions = knn_best.predict(X_test_scaled)\n",
        "\n",
        "# # Evaluate performance\n",
        "# knn_mae = mean_absolute_error(y_test, knn_predictions)\n",
        "# print(f'KNN Regression MAE: {knn_mae}, Best Params: {knn_grid_search.best_params_}')\n"
      ]
    },
    {
      "cell_type": "code",
      "execution_count": null,
      "metadata": {
        "id": "akyLQpQOWJQt"
      },
      "outputs": [],
      "source": [
        "# # # 12 Neural Network Regression\n",
        "# from sklearn.neural_network import MLPRegressor\n",
        "# from sklearn.preprocessing import StandardScaler\n",
        "\n",
        "# nn_param_grid = {\n",
        "#     'hidden_layer_sizes': [(50,), (100,), (50,50)],\n",
        "#     'activation': ['relu', 'tanh', 'logistic'],\n",
        "#     'solver': ['adam', 'lbfgs']\n",
        "# }\n",
        "# scaler = StandardScaler().fit(X_train)\n",
        "# X_train_scaled = scaler.transform(X_train)\n",
        "# X_test_scaled = scaler.transform(X_test)\n",
        "# nn_grid_search = GridSearchCV(MLPRegressor(max_iter=1000), nn_param_grid, cv=5, scoring='neg_mean_absolute_error')\n",
        "# nn_grid_search.fit(X_train_scaled, y_train)\n",
        "# nn_best = nn_grid_search.best_estimator_\n",
        "# nn_predictions = nn_best.predict(X_test_scaled)\n",
        "# nn_mae = mean_absolute_error(y_test, nn_predictions)\n",
        "# print(f'Neural Network Regression MAE: {nn_mae}, Best Params: {nn_grid_search.best_params_}')\n",
        "\n",
        "# #####################################################################################################################################\n",
        "# # # Expanded hyperparameter grid\n",
        "# # nn_param_grid = {\n",
        "# #     'hidden_layer_sizes': [(50,), (100,), (50,50), (100, 100), (50, 100, 50)],\n",
        "# #     'activation': ['relu', 'tanh', 'logistic'],\n",
        "# #     'solver': ['adam', 'lbfgs'],\n",
        "# #     'alpha': [0.0001, 0.001, 0.01],  # L2 penalty (regularization term) parameter.\n",
        "# #     'learning_rate_init': [0.001, 0.01, 0.1],  # The initial learning rate used.\n",
        "# # }\n",
        "\n",
        "# # # Scale features\n",
        "# # scaler = StandardScaler().fit(X_train)\n",
        "# # X_train_scaled = scaler.transform(X_train)\n",
        "# # X_test_scaled = scaler.transform(X_test)\n",
        "\n",
        "# # # Early stopping setup\n",
        "# # early_stopping = {'n_iter_no_change': 10, 'validation_fraction': 0.1, 'tol': 0.001}\n",
        "\n",
        "# # # Grid Search with Cross-Validation\n",
        "# # nn_grid_search = GridSearchCV(MLPRegressor(max_iter=1000, **early_stopping), nn_param_grid, cv=5, scoring='neg_mean_absolute_error')\n",
        "# # nn_grid_search.fit(X_train_scaled, y_train)\n",
        "\n",
        "# # # Best model and predictions\n",
        "# # nn_best = nn_grid_search.best_estimator_\n",
        "# # nn_predictions = nn_best.predict(X_test_scaled)\n",
        "\n",
        "# # # Evaluate performance\n",
        "# # nn_mae = mean_absolute_error(y_test, nn_predictions)\n",
        "# # print(f'Neural Network Regression MAE: {nn_mae}, Best Params: {nn_grid_search.best_params_}')\n"
      ]
    },
    {
      "cell_type": "code",
      "execution_count": null,
      "metadata": {
        "colab": {
          "base_uri": "https://localhost:8080/"
        },
        "id": "sWocTR9wWJQu",
        "outputId": "f9592cea-290d-4fc4-89fb-ab327dd11361"
      },
      "outputs": [],
      "source": [
        "# Random Forest baseline model\n",
        "rf = RandomForestRegressor()\n",
        "rf.fit(X_train,y_train)\n",
        "rf_baseline = rf.predict(X_test)\n",
        "rfbl_mae = mean_absolute_error(y_test, rf_baseline)\n",
        "print(f'RFR MAE: {rfbl_mae}')"
      ]
    },
    {
      "cell_type": "code",
      "execution_count": null,
      "metadata": {
        "colab": {
          "base_uri": "https://localhost:8080/"
        },
        "id": "xr1nCAwpWJQu",
        "outputId": "679bbf64-f308-4c3b-eb8b-70725d12306e"
      },
      "outputs": [],
      "source": [
        "# # XGB baseline model\n",
        "# xb = xgb.XGBRegressor()\n",
        "# xb.fit(X_train, y_train)\n",
        "# y_hat = xb.predict(X_test)\n",
        "# xbbl_mae = mean_absolute_error(y_test, y_hat)\n",
        "# print(f'XGB MAE: {xbbl_mae}')\n",
        "\n",
        "# #####################################################################################################################################\n",
        "\n",
        "param_grid = {\n",
        "        \"colsample_bytree\": [0.3, 0.4, 0.5],\n",
        "        \"gamma\": [0],\n",
        "        \"learning_rate\": [0.4, 0.5, 0.6],\n",
        "        \"max_depth\": [1, 2, 3],\n",
        "        \"reg_lambda\": [11, 12, 13],\n",
        "        \"scale_pos_weight\": [0],\n",
        "        \"subsample\": [0.4, 0.5, 0.6],\n",
        "}\n",
        "grid_cv = xgb.XGBRegressor()\n",
        "grid_cv = GridSearchCV(\n",
        "    grid_cv,\n",
        "    param_grid,\n",
        "    n_jobs=-1,\n",
        "    cv=3,\n",
        "    scoring='neg_mean_absolute_error'\n",
        ")\n",
        "grid_cv.fit(X_train, y_train)\n",
        "grid_cv.best_params_\n",
        "y_hat = grid_cv.predict(X_test)\n",
        "xbbl_mae = mean_absolute_error(y_test, y_hat)\n",
        "print(f'XGB MAE: {xbbl_mae}')"
      ]
    },
    {
      "cell_type": "code",
      "execution_count": null,
      "metadata": {
        "colab": {
          "base_uri": "https://localhost:8080/"
        },
        "id": "OSQWqx3aWJQv",
        "outputId": "32766a7d-4e27-4b52-dd18-6f3f7b6fdbca"
      },
      "outputs": [],
      "source": [
        "print(f'{dt_mae} Decision Tree MSE: , Best Params: {dt_grid_search.best_params_}')\n",
        "print(f\"{rfr_mae} Random Forest Regressor mae:\", )\n",
        "print(f'{xgb_mae} XGBoost MSE: , Best Params: {xgb_grid_search.best_params_}')\n",
        "print(f\"{gbrt_mae} Gradient Boosting Regression2\")\n",
        "print(f\"{lgb_mae} Gradient Boosting Regression2\")\n",
        "print(f'{knn_mae} Best KNN Model MAE:  Best Parameters: {knn_grid_search.best_params_}')\n",
        "print(f'{xbbl_mae} XGBoost baseline')\n",
        "print(f\"{rfbl_mae} Random Forest Regressor mae baseline\")"
      ]
    },
    {
      "cell_type": "code",
      "execution_count": null,
      "metadata": {
        "id": "t0sjBpQWWJQv"
      },
      "outputs": [],
      "source": [
        "feature_bank = {\n",
        "\"Decision Tree\":dt_mae,\n",
        "\"Random Forest Regressor\":rfr_mae,\n",
        "\"XGBoost\":xgb_mae,\n",
        "\"Gradient Boosting Regression\":gbrt_mae,\n",
        "\"Gradient Boosting Regression2\":lgb_mae,\n",
        "\"Best KNN Model\":knn_mae,\n",
        "# \"Neural Network Regression\":nn_mae,\n",
        "\"XGBoost baseline\":xbbl_mae,\n",
        "\"Random Forest Regressor mae baseline\":rfbl_mae\n",
        "}"
      ]
    },
    {
      "cell_type": "code",
      "execution_count": null,
      "metadata": {
        "colab": {
          "base_uri": "https://localhost:8080/"
        },
        "id": "lsbX2quXWJQv",
        "outputId": "132a2697-76df-4c04-bb7d-8de78fb43afc"
      },
      "outputs": [],
      "source": [
        "feature_bank"
      ]
    },
    {
      "cell_type": "code",
      "execution_count": null,
      "metadata": {
        "colab": {
          "base_uri": "https://localhost:8080/",
          "height": 369
        },
        "id": "vNUUKhvmWJQv",
        "outputId": "1983155b-35bd-4bde-c615-169364536db9"
      },
      "outputs": [],
      "source": [
        "# Convert the dictionary to a DataFrame\n",
        "dff = pd.DataFrame(list(feature_bank.items()), columns=['Model', 'MAE'])\n",
        "\n",
        "# Sort the DataFrame by MAE\n",
        "df_sorted = dff.sort_values('MAE')\n",
        "\n",
        "# Create the bar plot\n",
        "ax = sns.barplot(x='MAE', y='Model', data=df_sorted)\n",
        "\n",
        "plt.title('Model Performance Comparison (Lower is Better)')\n",
        "plt.xlabel('Mean Absolute Error (MAE)')\n",
        "plt.ylabel('Model')\n",
        "\n",
        "# Loop over the bars and use plt.text() to display the MAE value on each bar\n",
        "for p in ax.patches:\n",
        "    width = p.get_width()\n",
        "    plt.text(width + 0.02,  # x-coordinate position of text\n",
        "             p.get_y() + p.get_height() / 2,  # y-coordinate position of text\n",
        "             '{:1.5f}'.format(width),  # Text to be displayed\n",
        "             va='center')  # Center alignment of text\n",
        "\n",
        "plt.grid(alpha=0.3)\n",
        "plt.show()"
      ]
    },
    {
      "cell_type": "markdown",
      "metadata": {
        "id": "KXQuqtLvWJQw"
      },
      "source": [
        "<hr>"
      ]
    },
    {
      "cell_type": "markdown",
      "metadata": {
        "id": "8V1OYL_uWJQw"
      },
      "source": [
        "<hr>"
      ]
    },
    {
      "cell_type": "markdown",
      "metadata": {
        "id": "dVyE1ewWWJQw"
      },
      "source": [
        "<h4>06 Model Training</h4>"
      ]
    },
    {
      "cell_type": "code",
      "execution_count": null,
      "metadata": {
        "colab": {
          "base_uri": "https://localhost:8080/",
          "height": 513
        },
        "id": "dlrpnCxOWJQw",
        "outputId": "09672d5e-382f-4784-8989-1551dc054941"
      },
      "outputs": [],
      "source": [
        "x = []\n",
        "src2 = r\"C:\\Users\\Acer\\Desktop\\Hackathon4\\farm-connect-soil-water-content-prediction\\test\\test\"\n",
        "for file in os.listdir(src2):\n",
        "    print(os.path.join(src2,file))\n",
        "    x.append(pd.read_csv(os.path.join(src2,file)))\n",
        "x = pd.concat(x)\n",
        "x = x.fillna(0)\n",
        "x"
      ]
    },
    {
      "cell_type": "code",
      "execution_count": null,
      "metadata": {
        "colab": {
          "base_uri": "https://localhost:8080/"
        },
        "id": "BH-VzAN0WJQx",
        "outputId": "c6b95312-d220-4fc9-b9ff-762107246b96"
      },
      "outputs": [],
      "source": [
        "X.columns"
      ]
    },
    {
      "cell_type": "code",
      "execution_count": null,
      "metadata": {
        "colab": {
          "base_uri": "https://localhost:8080/",
          "height": 461
        },
        "id": "MItehUDCWJQx",
        "outputId": "be0c41c1-9b01-40cc-ca3d-a42c5bdff45d"
      },
      "outputs": [],
      "source": [
        "x = x[X.columns]\n",
        "x"
      ]
    },
    {
      "cell_type": "code",
      "execution_count": null,
      "metadata": {
        "id": "LMDietgJWJQy"
      },
      "outputs": [],
      "source": [
        "# scaler = RobustScaler()\n",
        "# x_test = scaler.fit_transform(x_test)\n",
        "# x_test = scaler.transform(x_test)\n",
        "# x_test = pd.DataFrame(x_test, columns=[cols])"
      ]
    },
    {
      "cell_type": "code",
      "execution_count": null,
      "metadata": {
        "colab": {
          "base_uri": "https://localhost:8080/"
        },
        "id": "ln8CxXJlWJQy",
        "outputId": "69c818f9-b174-460d-c9b0-52315e7c8619"
      },
      "outputs": [],
      "source": [
        "y = xgb_best.predict(x)\n",
        "y"
      ]
    },
    {
      "cell_type": "code",
      "execution_count": null,
      "metadata": {
        "colab": {
          "base_uri": "https://localhost:8080/"
        },
        "id": "1y8nKjJyWJQz",
        "outputId": "5eac3264-163c-4881-eed5-ecb5cb2c9a00"
      },
      "outputs": [],
      "source": [
        "len(y)"
      ]
    },
    {
      "cell_type": "markdown",
      "metadata": {
        "id": "bMN-_6ECWJQz"
      },
      "source": [
        "<hr>"
      ]
    },
    {
      "cell_type": "markdown",
      "metadata": {
        "id": "tpouN0xKWJQz"
      },
      "source": [
        "<h4>07 Create SSV</h4>"
      ]
    },
    {
      "cell_type": "code",
      "execution_count": null,
      "metadata": {
        "colab": {
          "base_uri": "https://localhost:8080/",
          "height": 423
        },
        "id": "QoRcQidrWJQ0",
        "outputId": "0a5ce8ae-b9fa-49b8-b414-24a9d3df736e"
      },
      "outputs": [],
      "source": [
        "submission = pd.read_csv(r\"C:\\Users\\Acer\\Desktop\\Hackathon4\\farm-connect-soil-water-content-prediction\\sample_submission.csv\")\n",
        "submission"
      ]
    },
    {
      "cell_type": "code",
      "execution_count": null,
      "metadata": {
        "colab": {
          "base_uri": "https://localhost:8080/",
          "height": 423
        },
        "id": "HZpDrmMSWJQ0",
        "outputId": "8a6ed8f6-4d4c-4e88-d5f0-4cd53dc2dee2"
      },
      "outputs": [],
      "source": [
        "submission['23SoilWC ค.ชื้นดิน'].iloc[1:] = y[1:]\n",
        "submission"
      ]
    },
    {
      "cell_type": "code",
      "execution_count": null,
      "metadata": {
        "id": "0BtTP49QWJQ0"
      },
      "outputs": [],
      "source": [
        "10/0\n",
        "submission.to_csv('v.0.6.0.csv',index=False)"
      ]
    }
  ],
  "metadata": {
    "colab": {
      "provenance": []
    },
    "kernelspec": {
      "display_name": "tf",
      "language": "python",
      "name": "python3"
    },
    "language_info": {
      "codemirror_mode": {
        "name": "ipython",
        "version": 3
      },
      "file_extension": ".py",
      "mimetype": "text/x-python",
      "name": "python",
      "nbconvert_exporter": "python",
      "pygments_lexer": "ipython3",
      "version": "3.9.18"
    }
  },
  "nbformat": 4,
  "nbformat_minor": 0
}
