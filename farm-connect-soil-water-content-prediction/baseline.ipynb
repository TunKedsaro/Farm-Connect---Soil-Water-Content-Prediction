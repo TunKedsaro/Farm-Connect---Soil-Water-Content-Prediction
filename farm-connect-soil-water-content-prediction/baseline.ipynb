{
 "cells": [
  {
   "cell_type": "code",
   "execution_count": 1,
   "metadata": {},
   "outputs": [],
   "source": [
    "import numpy as np"
   ]
  },
  {
   "cell_type": "code",
   "execution_count": 5,
   "metadata": {},
   "outputs": [],
   "source": [
    "a = [\n",
    "    [0.2, 0.1, 1.7],\n",
    "    [-0.4, 0.5, -1.1],\n",
    "    [0.3, 1.0, -0.6],\n",
    "    [-0.1, 0.4]\n",
    "]"
   ]
  },
  {
   "cell_type": "code",
   "execution_count": 6,
   "metadata": {},
   "outputs": [
    {
     "name": "stdout",
     "output_type": "stream",
     "text": [
      "0.6666666666666666\n",
      "-0.3333333333333333\n",
      "0.23333333333333336\n",
      "0.15000000000000002\n"
     ]
    }
   ],
   "source": [
    "for i in a:\n",
    "    print(np.mean(i))"
   ]
  },
  {
   "cell_type": "code",
   "execution_count": null,
   "metadata": {},
   "outputs": [],
   "source": [
    "import autosklearn.regression\n",
    "import sklearn.model_selection\n",
    "import sklearn.metrics\n",
    "import os\n",
    "import pandas as pd\n",
    "from sklearn.ensemble import RandomForestRegressor\n",
    "from sklearn.feature_selection import RFECV\n",
    "import xgboost as xgb\n",
    "from sklearn.model_selection import GridSearchCV\n"
   ]
  },
  {
   "cell_type": "code",
   "execution_count": 41,
   "metadata": {},
   "outputs": [],
   "source": [
    "import warnings\n",
    "warnings.filterwarnings('ignore')\n",
    "warnings.simplefilter('ignore')\n"
   ]
  },
  {
   "cell_type": "code",
   "execution_count": 4,
   "metadata": {},
   "outputs": [],
   "source": [
    "df = []\n",
    "src = '/media/palm/BiggerData/superai/baseline_ss3/final_iot/kaggle/ss3-final-iot-farm-connect/train'\n",
    "for file in os.listdir(src):\n",
    "    df.append(pd.read_csv(os.path.join(src, file)))\n",
    "df = pd.concat(df)\n",
    "df = df.fillna(0)\n",
    "x_train = df[['1Air Humidity', '1AirTemperature', '1LightHigh',\n",
    "                '1LightLow', '11Rain Accumulate (mm)', '11Rain count','12WindSpeed',\n",
    "                '23SoilEC', '23SoilpH', '23SoilTemp.อุณหภูมิดิน',  '26N', '26P', '26K',\n",
    "                '29SoilTension', 'flow1']]\n",
    "y_train = df[['23SoilWC ค.ชื้นดิน']]"
   ]
  },
  {
   "cell_type": "code",
   "execution_count": 5,
   "metadata": {},
   "outputs": [
    {
     "data": {
      "text/html": [
       "<div>\n",
       "<style scoped>\n",
       "    .dataframe tbody tr th:only-of-type {\n",
       "        vertical-align: middle;\n",
       "    }\n",
       "\n",
       "    .dataframe tbody tr th {\n",
       "        vertical-align: top;\n",
       "    }\n",
       "\n",
       "    .dataframe thead th {\n",
       "        text-align: right;\n",
       "    }\n",
       "</style>\n",
       "<table border=\"1\" class=\"dataframe\">\n",
       "  <thead>\n",
       "    <tr style=\"text-align: right;\">\n",
       "      <th></th>\n",
       "      <th>1Air Humidity</th>\n",
       "      <th>1AirTemperature</th>\n",
       "      <th>1LightHigh</th>\n",
       "      <th>1LightLow</th>\n",
       "      <th>11Rain Accumulate (mm)</th>\n",
       "      <th>11Rain count</th>\n",
       "      <th>12WindSpeed</th>\n",
       "      <th>23SoilEC</th>\n",
       "      <th>23SoilpH</th>\n",
       "      <th>23SoilTemp.อุณหภูมิดิน</th>\n",
       "      <th>26N</th>\n",
       "      <th>26P</th>\n",
       "      <th>26K</th>\n",
       "      <th>29SoilTension</th>\n",
       "      <th>flow1</th>\n",
       "    </tr>\n",
       "  </thead>\n",
       "  <tbody>\n",
       "    <tr>\n",
       "      <th>0</th>\n",
       "      <td>49.1</td>\n",
       "      <td>27.4</td>\n",
       "      <td>0.0</td>\n",
       "      <td>59.01</td>\n",
       "      <td>0.0</td>\n",
       "      <td>0.0</td>\n",
       "      <td>0.9</td>\n",
       "      <td>0.12</td>\n",
       "      <td>4.8</td>\n",
       "      <td>22.3</td>\n",
       "      <td>25.0</td>\n",
       "      <td>104.0</td>\n",
       "      <td>97.0</td>\n",
       "      <td>91.0</td>\n",
       "      <td>0.0</td>\n",
       "    </tr>\n",
       "    <tr>\n",
       "      <th>1</th>\n",
       "      <td>49.6</td>\n",
       "      <td>28.2</td>\n",
       "      <td>0.0</td>\n",
       "      <td>59.70</td>\n",
       "      <td>0.0</td>\n",
       "      <td>0.0</td>\n",
       "      <td>0.8</td>\n",
       "      <td>0.12</td>\n",
       "      <td>4.8</td>\n",
       "      <td>22.3</td>\n",
       "      <td>25.0</td>\n",
       "      <td>104.0</td>\n",
       "      <td>97.0</td>\n",
       "      <td>0.0</td>\n",
       "      <td>0.0</td>\n",
       "    </tr>\n",
       "    <tr>\n",
       "      <th>2</th>\n",
       "      <td>49.1</td>\n",
       "      <td>27.2</td>\n",
       "      <td>0.0</td>\n",
       "      <td>60.68</td>\n",
       "      <td>0.0</td>\n",
       "      <td>0.0</td>\n",
       "      <td>0.7</td>\n",
       "      <td>0.12</td>\n",
       "      <td>4.8</td>\n",
       "      <td>22.3</td>\n",
       "      <td>25.0</td>\n",
       "      <td>104.0</td>\n",
       "      <td>97.0</td>\n",
       "      <td>90.0</td>\n",
       "      <td>0.0</td>\n",
       "    </tr>\n",
       "    <tr>\n",
       "      <th>3</th>\n",
       "      <td>50.8</td>\n",
       "      <td>26.9</td>\n",
       "      <td>0.0</td>\n",
       "      <td>61.51</td>\n",
       "      <td>0.0</td>\n",
       "      <td>0.0</td>\n",
       "      <td>3.8</td>\n",
       "      <td>0.12</td>\n",
       "      <td>4.8</td>\n",
       "      <td>22.3</td>\n",
       "      <td>25.0</td>\n",
       "      <td>104.0</td>\n",
       "      <td>97.0</td>\n",
       "      <td>91.0</td>\n",
       "      <td>0.0</td>\n",
       "    </tr>\n",
       "    <tr>\n",
       "      <th>4</th>\n",
       "      <td>48.7</td>\n",
       "      <td>28.2</td>\n",
       "      <td>0.0</td>\n",
       "      <td>60.71</td>\n",
       "      <td>0.0</td>\n",
       "      <td>0.0</td>\n",
       "      <td>0.3</td>\n",
       "      <td>0.12</td>\n",
       "      <td>4.8</td>\n",
       "      <td>22.3</td>\n",
       "      <td>25.0</td>\n",
       "      <td>104.0</td>\n",
       "      <td>97.0</td>\n",
       "      <td>90.0</td>\n",
       "      <td>0.0</td>\n",
       "    </tr>\n",
       "  </tbody>\n",
       "</table>\n",
       "</div>"
      ],
      "text/plain": [
       "   1Air Humidity  1AirTemperature  1LightHigh  1LightLow  \\\n",
       "0           49.1             27.4         0.0      59.01   \n",
       "1           49.6             28.2         0.0      59.70   \n",
       "2           49.1             27.2         0.0      60.68   \n",
       "3           50.8             26.9         0.0      61.51   \n",
       "4           48.7             28.2         0.0      60.71   \n",
       "\n",
       "   11Rain Accumulate (mm)  11Rain count  12WindSpeed  23SoilEC  23SoilpH  \\\n",
       "0                     0.0           0.0          0.9      0.12       4.8   \n",
       "1                     0.0           0.0          0.8      0.12       4.8   \n",
       "2                     0.0           0.0          0.7      0.12       4.8   \n",
       "3                     0.0           0.0          3.8      0.12       4.8   \n",
       "4                     0.0           0.0          0.3      0.12       4.8   \n",
       "\n",
       "   23SoilTemp.อุณหภูมิดิน   26N    26P   26K  29SoilTension  flow1  \n",
       "0                    22.3  25.0  104.0  97.0           91.0    0.0  \n",
       "1                    22.3  25.0  104.0  97.0            0.0    0.0  \n",
       "2                    22.3  25.0  104.0  97.0           90.0    0.0  \n",
       "3                    22.3  25.0  104.0  97.0           91.0    0.0  \n",
       "4                    22.3  25.0  104.0  97.0           90.0    0.0  "
      ]
     },
     "execution_count": 5,
     "metadata": {},
     "output_type": "execute_result"
    }
   ],
   "source": [
    "x_train.head()"
   ]
  },
  {
   "cell_type": "code",
   "execution_count": 6,
   "metadata": {},
   "outputs": [],
   "source": [
    "x_test = []\n",
    "for f in ['02', '09']:\n",
    "    x_test.append(\n",
    "        pd.read_csv(\n",
    "            f'/media/palm/BiggerData/superai/baseline_ss3/final_iot/kaggle/ss3-final-iot-farm-connect/test/set{f}.csv'\n",
    "        )\n",
    "    )\n",
    "x_test = pd.concat(x_test)\n",
    "x_test = x_test.fillna(0)\n",
    "x_test = x_test[['1Air Humidity', '1AirTemperature', '1LightHigh',\n",
    "                '1LightLow', '11Rain Accumulate (mm)', '11Rain count','12WindSpeed',\n",
    "                '23SoilEC', '23SoilpH', '23SoilTemp.อุณหภูมิดิน',  '26N', '26P', '26K',\n",
    "                '29SoilTension', 'flow1']]\n"
   ]
  },
  {
   "cell_type": "code",
   "execution_count": 7,
   "metadata": {},
   "outputs": [
    {
     "data": {
      "text/html": [
       "<div>\n",
       "<style scoped>\n",
       "    .dataframe tbody tr th:only-of-type {\n",
       "        vertical-align: middle;\n",
       "    }\n",
       "\n",
       "    .dataframe tbody tr th {\n",
       "        vertical-align: top;\n",
       "    }\n",
       "\n",
       "    .dataframe thead th {\n",
       "        text-align: right;\n",
       "    }\n",
       "</style>\n",
       "<table border=\"1\" class=\"dataframe\">\n",
       "  <thead>\n",
       "    <tr style=\"text-align: right;\">\n",
       "      <th></th>\n",
       "      <th>1Air Humidity</th>\n",
       "      <th>1AirTemperature</th>\n",
       "      <th>1LightHigh</th>\n",
       "      <th>1LightLow</th>\n",
       "      <th>11Rain Accumulate (mm)</th>\n",
       "      <th>11Rain count</th>\n",
       "      <th>12WindSpeed</th>\n",
       "      <th>23SoilEC</th>\n",
       "      <th>23SoilpH</th>\n",
       "      <th>23SoilTemp.อุณหภูมิดิน</th>\n",
       "      <th>26N</th>\n",
       "      <th>26P</th>\n",
       "      <th>26K</th>\n",
       "      <th>29SoilTension</th>\n",
       "      <th>flow1</th>\n",
       "    </tr>\n",
       "  </thead>\n",
       "  <tbody>\n",
       "    <tr>\n",
       "      <th>0</th>\n",
       "      <td>46.2</td>\n",
       "      <td>30.7</td>\n",
       "      <td>65.53</td>\n",
       "      <td>8.79</td>\n",
       "      <td>0.0</td>\n",
       "      <td>0.0</td>\n",
       "      <td>1.3</td>\n",
       "      <td>0.11</td>\n",
       "      <td>7.9</td>\n",
       "      <td>22.4</td>\n",
       "      <td>21.0</td>\n",
       "      <td>95.0</td>\n",
       "      <td>88.0</td>\n",
       "      <td>26.0</td>\n",
       "      <td>0.0</td>\n",
       "    </tr>\n",
       "    <tr>\n",
       "      <th>1</th>\n",
       "      <td>46.0</td>\n",
       "      <td>31.4</td>\n",
       "      <td>65.53</td>\n",
       "      <td>8.26</td>\n",
       "      <td>0.0</td>\n",
       "      <td>0.0</td>\n",
       "      <td>0.0</td>\n",
       "      <td>0.11</td>\n",
       "      <td>7.9</td>\n",
       "      <td>22.4</td>\n",
       "      <td>21.0</td>\n",
       "      <td>95.0</td>\n",
       "      <td>88.0</td>\n",
       "      <td>26.0</td>\n",
       "      <td>0.0</td>\n",
       "    </tr>\n",
       "    <tr>\n",
       "      <th>2</th>\n",
       "      <td>44.4</td>\n",
       "      <td>32.2</td>\n",
       "      <td>65.53</td>\n",
       "      <td>8.66</td>\n",
       "      <td>0.0</td>\n",
       "      <td>0.0</td>\n",
       "      <td>1.0</td>\n",
       "      <td>0.11</td>\n",
       "      <td>7.9</td>\n",
       "      <td>22.3</td>\n",
       "      <td>21.0</td>\n",
       "      <td>95.0</td>\n",
       "      <td>88.0</td>\n",
       "      <td>0.0</td>\n",
       "      <td>0.0</td>\n",
       "    </tr>\n",
       "    <tr>\n",
       "      <th>3</th>\n",
       "      <td>43.0</td>\n",
       "      <td>33.0</td>\n",
       "      <td>65.53</td>\n",
       "      <td>8.68</td>\n",
       "      <td>0.0</td>\n",
       "      <td>0.0</td>\n",
       "      <td>0.0</td>\n",
       "      <td>0.11</td>\n",
       "      <td>7.9</td>\n",
       "      <td>22.4</td>\n",
       "      <td>21.0</td>\n",
       "      <td>95.0</td>\n",
       "      <td>88.0</td>\n",
       "      <td>26.0</td>\n",
       "      <td>0.0</td>\n",
       "    </tr>\n",
       "    <tr>\n",
       "      <th>4</th>\n",
       "      <td>42.4</td>\n",
       "      <td>32.9</td>\n",
       "      <td>65.53</td>\n",
       "      <td>8.86</td>\n",
       "      <td>0.0</td>\n",
       "      <td>0.0</td>\n",
       "      <td>0.0</td>\n",
       "      <td>0.11</td>\n",
       "      <td>7.9</td>\n",
       "      <td>22.4</td>\n",
       "      <td>21.0</td>\n",
       "      <td>95.0</td>\n",
       "      <td>88.0</td>\n",
       "      <td>26.0</td>\n",
       "      <td>0.0</td>\n",
       "    </tr>\n",
       "  </tbody>\n",
       "</table>\n",
       "</div>"
      ],
      "text/plain": [
       "   1Air Humidity  1AirTemperature  1LightHigh  1LightLow  \\\n",
       "0           46.2             30.7       65.53       8.79   \n",
       "1           46.0             31.4       65.53       8.26   \n",
       "2           44.4             32.2       65.53       8.66   \n",
       "3           43.0             33.0       65.53       8.68   \n",
       "4           42.4             32.9       65.53       8.86   \n",
       "\n",
       "   11Rain Accumulate (mm)  11Rain count  12WindSpeed  23SoilEC  23SoilpH  \\\n",
       "0                     0.0           0.0          1.3      0.11       7.9   \n",
       "1                     0.0           0.0          0.0      0.11       7.9   \n",
       "2                     0.0           0.0          1.0      0.11       7.9   \n",
       "3                     0.0           0.0          0.0      0.11       7.9   \n",
       "4                     0.0           0.0          0.0      0.11       7.9   \n",
       "\n",
       "   23SoilTemp.อุณหภูมิดิน   26N   26P   26K  29SoilTension  flow1  \n",
       "0                    22.4  21.0  95.0  88.0           26.0    0.0  \n",
       "1                    22.4  21.0  95.0  88.0           26.0    0.0  \n",
       "2                    22.3  21.0  95.0  88.0            0.0    0.0  \n",
       "3                    22.4  21.0  95.0  88.0           26.0    0.0  \n",
       "4                    22.4  21.0  95.0  88.0           26.0    0.0  "
      ]
     },
     "execution_count": 7,
     "metadata": {},
     "output_type": "execute_result"
    }
   ],
   "source": [
    "x_test.head()"
   ]
  },
  {
   "cell_type": "markdown",
   "metadata": {},
   "source": [
    "# AutoML"
   ]
  },
  {
   "cell_type": "code",
   "execution_count": null,
   "metadata": {},
   "outputs": [],
   "source": [
    "automl = autosklearn.regression.AutoSklearnRegressor()\n",
    "automl.fit(x_train, y_train)\n",
    "y_hat = automl.predict(x_test)\n"
   ]
  },
  {
   "cell_type": "markdown",
   "metadata": {},
   "source": [
    "# RandomForrest"
   ]
  },
  {
   "cell_type": "code",
   "execution_count": 9,
   "metadata": {},
   "outputs": [
    {
     "name": "stderr",
     "output_type": "stream",
     "text": [
      "/tmp/ipykernel_9001/2323612038.py:2: DataConversionWarning: A column-vector y was passed when a 1d array was expected. Please change the shape of y to (n_samples,), for example using ravel().\n",
      "  rf.fit(x_train, y_train)\n"
     ]
    }
   ],
   "source": [
    "rf = RandomForestRegressor()\n",
    "rf.fit(x_train, y_train)\n",
    "y_hat = rf.predict(x_test)"
   ]
  },
  {
   "cell_type": "markdown",
   "metadata": {},
   "source": [
    "# XGB"
   ]
  },
  {
   "cell_type": "code",
   "execution_count": 49,
   "metadata": {},
   "outputs": [],
   "source": [
    "xb = xgb.XGBRegressor()\n",
    "xb.fit(x_train, y_train)\n",
    "y_hat = xb.predict(x_test)"
   ]
  },
  {
   "cell_type": "markdown",
   "metadata": {},
   "source": [
    "## Feature selection"
   ]
  },
  {
   "cell_type": "code",
   "execution_count": 53,
   "metadata": {},
   "outputs": [],
   "source": [
    "xb = xgb.XGBRegressor()\n",
    "reg_mod = RFECV(xb,\n",
    "                cv=3,\n",
    "                step=5\n",
    "                )"
   ]
  },
  {
   "cell_type": "code",
   "execution_count": 54,
   "metadata": {},
   "outputs": [],
   "source": [
    "_ = reg_mod.fit(x_train, y_train)"
   ]
  },
  {
   "cell_type": "code",
   "execution_count": 55,
   "metadata": {},
   "outputs": [
    {
     "data": {
      "text/plain": [
       "array([False, False, False, False, False, False, False,  True,  True,\n",
       "       False, False,  True,  True,  True, False])"
      ]
     },
     "execution_count": 55,
     "metadata": {},
     "output_type": "execute_result"
    }
   ],
   "source": [
    "selected_columns = x_train.columns[reg_mod.support_]\n",
    "reg_mod.support_"
   ]
  },
  {
   "cell_type": "code",
   "execution_count": 56,
   "metadata": {},
   "outputs": [],
   "source": [
    "train_data_selected = x_train[selected_columns]\n",
    "test_data_selected = x_test[selected_columns]"
   ]
  },
  {
   "cell_type": "code",
   "execution_count": 58,
   "metadata": {},
   "outputs": [],
   "source": [
    "xb = xgb.XGBRegressor()\n",
    "xb.fit(train_data_selected, y_train)\n",
    "y_hat = xb.predict(test_data_selected)"
   ]
  },
  {
   "cell_type": "markdown",
   "metadata": {},
   "source": [
    "## Model Selection"
   ]
  },
  {
   "cell_type": "code",
   "execution_count": 76,
   "metadata": {},
   "outputs": [],
   "source": [
    "param_grid = {\n",
    "        \"colsample_bytree\": [0.3, 0.4, 0.5],\n",
    "        \"gamma\": [0],\n",
    "        \"learning_rate\": [0.4, 0.5, 0.6],\n",
    "        \"max_depth\": [1, 2, 3],\n",
    "        \"reg_lambda\": [11, 12, 13],\n",
    "        \"scale_pos_weight\": [0],\n",
    "        \"subsample\": [0.4, 0.5, 0.6],\n",
    "}"
   ]
  },
  {
   "cell_type": "code",
   "execution_count": 77,
   "metadata": {},
   "outputs": [
    {
     "data": {
      "text/plain": [
       "{'colsample_bytree': 0.4,\n",
       " 'gamma': 0,\n",
       " 'learning_rate': 0.4,\n",
       " 'max_depth': 3,\n",
       " 'reg_lambda': 12,\n",
       " 'scale_pos_weight': 0,\n",
       " 'subsample': 0.5}"
      ]
     },
     "execution_count": 77,
     "metadata": {},
     "output_type": "execute_result"
    }
   ],
   "source": [
    "grid_cv = xgb.XGBRegressor()\n",
    "grid_cv = GridSearchCV(\n",
    "    grid_cv, \n",
    "    param_grid, \n",
    "    n_jobs=-1, \n",
    "    cv=3, \n",
    "    scoring='neg_mean_absolute_error'\n",
    ")\n",
    "_ = grid_cv.fit(train_data_selected, y_train)\n",
    "grid_cv.best_params_"
   ]
  },
  {
   "cell_type": "code",
   "execution_count": 78,
   "metadata": {},
   "outputs": [],
   "source": [
    "y_hat = grid_cv.predict(test_data_selected)"
   ]
  },
  {
   "cell_type": "markdown",
   "metadata": {},
   "source": [
    "# submission"
   ]
  },
  {
   "cell_type": "code",
   "execution_count": 70,
   "metadata": {},
   "outputs": [],
   "source": [
    "submission = pd.read_csv('/media/palm/BiggerData/superai/baseline_ss3/final_iot/kaggle/ss3-final-iot-farm-connect/sample_submission.csv')"
   ]
  },
  {
   "cell_type": "code",
   "execution_count": 71,
   "metadata": {},
   "outputs": [],
   "source": [
    "submission['23SoilWC ค.ชื้นดิน'].iloc[1:] = y_hat[1:]"
   ]
  },
  {
   "cell_type": "code",
   "execution_count": 72,
   "metadata": {},
   "outputs": [
    {
     "data": {
      "text/html": [
       "<div>\n",
       "<style scoped>\n",
       "    .dataframe tbody tr th:only-of-type {\n",
       "        vertical-align: middle;\n",
       "    }\n",
       "\n",
       "    .dataframe tbody tr th {\n",
       "        vertical-align: top;\n",
       "    }\n",
       "\n",
       "    .dataframe thead th {\n",
       "        text-align: right;\n",
       "    }\n",
       "</style>\n",
       "<table border=\"1\" class=\"dataframe\">\n",
       "  <thead>\n",
       "    <tr style=\"text-align: right;\">\n",
       "      <th></th>\n",
       "      <th>index</th>\n",
       "      <th>23SoilWC ค.ชื้นดิน</th>\n",
       "    </tr>\n",
       "  </thead>\n",
       "  <tbody>\n",
       "    <tr>\n",
       "      <th>0</th>\n",
       "      <td>02_1</td>\n",
       "      <td>31.100000</td>\n",
       "    </tr>\n",
       "    <tr>\n",
       "      <th>1</th>\n",
       "      <td>02_2</td>\n",
       "      <td>36.112343</td>\n",
       "    </tr>\n",
       "    <tr>\n",
       "      <th>2</th>\n",
       "      <td>02_3</td>\n",
       "      <td>35.275467</td>\n",
       "    </tr>\n",
       "    <tr>\n",
       "      <th>3</th>\n",
       "      <td>02_4</td>\n",
       "      <td>36.112343</td>\n",
       "    </tr>\n",
       "    <tr>\n",
       "      <th>4</th>\n",
       "      <td>02_5</td>\n",
       "      <td>36.112343</td>\n",
       "    </tr>\n",
       "  </tbody>\n",
       "</table>\n",
       "</div>"
      ],
      "text/plain": [
       "  index  23SoilWC ค.ชื้นดิน\n",
       "0  02_1           31.100000\n",
       "1  02_2           36.112343\n",
       "2  02_3           35.275467\n",
       "3  02_4           36.112343\n",
       "4  02_5           36.112343"
      ]
     },
     "execution_count": 72,
     "metadata": {},
     "output_type": "execute_result"
    }
   ],
   "source": [
    "submission.head()"
   ]
  },
  {
   "cell_type": "code",
   "execution_count": 73,
   "metadata": {},
   "outputs": [],
   "source": [
    "submission.to_csv('/media/palm/BiggerData/superai/baseline_ss3/final_iot/kaggle/ss3-final-iot-farm-connect/baseline.csv', index=False)"
   ]
  },
  {
   "cell_type": "code",
   "execution_count": null,
   "metadata": {},
   "outputs": [],
   "source": [
    "df = pd.read_csv('soil.csv')\n",
    "df.columns\n",
    "\n",
    "Index(['1Air Humidity', '1AirTemperature', '1LightHigh', '1LightLow',\n",
    "       '12WindSpeed', '13WindDirection', '23SoilWC ค.ชื้นดิน',\n",
    "       '23SoilTemp.อุณหภูมิดิน', '23SoilEC', '23SoilpH', '26N', '26P', '26K',\n",
    "       '29SoilTension', 'flow1'],\n",
    "      dtype='object')\n",
    "\n",
    "\n",
    "# Feature selection\n",
    "df.corr().style.format(\"{:.4}\").background_gradient(cmap=plt.get_cmap('coolwarm'), axis=1)\n",
    "\n",
    "X = df[['23SoilEC','26P','26K','26N','1AirTemperature','23SoilTemp.อุณหภูมิดิน','23SoilpH','1LightLow']]     \n",
    "y = df[['23SoilWC ค.ชื้นดิน']]\n",
    "\n",
    "X_train, X_test, y_train, y_test = train_test_split(X, y, test_size = 0.078, random_state = 99)\n",
    "\n",
    "dt_param_grid = {\n",
    "    'max_depth': [None, 10, 20, 30],\n",
    "    'min_samples_split': [2, 10, 20]\n",
    "}\n",
    "dt_grid_search = GridSearchCV(DecisionTreeRegressor(), dt_param_grid, cv=5, scoring='neg_mean_absolute_error')\n",
    "dt_grid_search.fit(X_train, y_train)\n",
    "dt_best = dt_grid_search.best_estimator_\n",
    "dt_predictions = dt_best.predict(X_test)\n",
    "dt_mae = mean_absolute_error(y_test, dt_predictions)\n",
    "print(f'Decision Tree MSE: {dt_mae}, Best Params: {dt_grid_search.best_params_}')"
   ]
  }
 ],
 "metadata": {
  "kernelspec": {
   "display_name": "Python 3.8.16",
   "language": "python",
   "name": "python3"
  },
  "language_info": {
   "codemirror_mode": {
    "name": "ipython",
    "version": 3
   },
   "file_extension": ".py",
   "mimetype": "text/x-python",
   "name": "python",
   "nbconvert_exporter": "python",
   "pygments_lexer": "ipython3",
   "version": "3.8.16"
  },
  "orig_nbformat": 4,
  "vscode": {
   "interpreter": {
    "hash": "307111829870b98f9caebe88d9473994d9d04ea14c4a6d4f03b9edd5d722a837"
   }
  }
 },
 "nbformat": 4,
 "nbformat_minor": 2
}
