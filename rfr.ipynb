{
 "cells": [
  {
   "cell_type": "code",
   "execution_count": null,
   "metadata": {},
   "outputs": [],
   "source": [
    "# 08 Random Forest Regressor\n",
    "from sklearn.ensemble import RandomForestRegressor\n",
    "\n",
    "rfr = RandomForestRegressor()\n",
    "rfr_param_grid = {\n",
    "    'n_estimators': [50, 100, 200],\n",
    "    'max_depth': [None, 5, 10]\n",
    "}\n",
    "rfr_grid_search = GridSearchCV(rfr, rfr_param_grid, cv=5, scoring='neg_mean_absolute_error')\n",
    "rfr_grid_search.fit(X_train, y_train)\n",
    "rfr_best = rfr_grid_search.best_estimator_\n",
    "rfr_predictions = rfr_best.predict(X_test)\n",
    "rfr_mae = mean_absolute_error(y_test, rfr_predictions)\n",
    "print(\"Random Forest Regressor mae:\", rfr_mae)\n",
    "\n",
    "#####################################################################################################################################\n",
    "# # Enhanced hyperparameter grid\n",
    "# rfr_param_grid = {\n",
    "#     'n_estimators': [100, 200, 300],  # More options for the number of trees\n",
    "#     'max_depth': [None, 5, 10, 20],  # Additional depth options for tree growth\n",
    "#     'min_samples_split': [2, 5, 10],  # Minimum number of samples required to split an internal node\n",
    "#     'min_samples_leaf': [1, 2, 4],  # Minimum number of samples required to be at a leaf node\n",
    "#     'max_features': ['auto', 'sqrt', 'log2'],  # Number of features to consider when looking for the best split\n",
    "# }\n",
    "\n",
    "# # Grid Search with Cross-Validation\n",
    "# rfr_grid_search = GridSearchCV(RandomForestRegressor(random_state=42), rfr_param_grid, cv=5, scoring='neg_mean_absolute_error')\n",
    "# rfr_grid_search.fit(X_train, y_train)\n",
    "\n",
    "# # Best model and predictions\n",
    "# rfr_best = rfr_grid_search.best_estimator_\n",
    "# rfr_predictions = rfr_best.predict(X_test)\n",
    "\n",
    "# # Evaluate performance\n",
    "# rfr_mae = mean_absolute_error(y_test, rfr_predictions)\n",
    "# print(f'Random Forest Regressor MAE: {rfr_mae}, Best Params: {rfr_grid_search.best_params_}')\n"
   ]
  }
 ],
 "metadata": {
  "language_info": {
   "name": "python"
  }
 },
 "nbformat": 4,
 "nbformat_minor": 2
}
