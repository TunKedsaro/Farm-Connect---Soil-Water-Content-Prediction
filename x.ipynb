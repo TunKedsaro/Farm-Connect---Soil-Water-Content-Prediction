{
 "cells": [
  {
   "cell_type": "code",
   "execution_count": null,
   "metadata": {},
   "outputs": [],
   "source": [
    "src = r\"C:\\Users\\Acer\\Desktop\\Hackathon4\\farm-connect-soil-water-content-prediction\\train\\train\"\n",
    "df = pd.read_csv(src)\n",
    "\n",
    "\n",
    "X = df[['23SoilEC','26P', '26K', '26N', '1AirTemperature', '23SoilTemp.อุณหภูมิดิน','23SoilpH', '1LightLow', 'hour']]   \n",
    "y = df[['23SoilWC ค.ชื้นดิน']]\n",
    "\n",
    "\n",
    "X_train, X_test, y_train, y_test = train_test_split(X, y, test_size = 0.179, random_state = 99)\n",
    "X_train.shape, X_test.shape\n",
    "\n",
    "print(X_train[0:100])\n",
    "\n",
    "\n",
    "     23SoilEC    26P   26K   26N  1AirTemperature  23SoilTemp.อุณหภูมิดิน  \\\n",
    "111      0.11   97.0  89.0  22.0             32.1                    21.6   \n",
    "96       0.11   99.0  92.0  23.0             35.7                    23.5   \n",
    "48       0.11   96.0  89.0  21.0             21.6                    20.5   \n",
    "102      0.11   97.0  90.0  22.0             34.6                    21.6   \n",
    "76       0.11   97.0  90.0  22.0             31.2                    21.4   \n",
    "..        ...    ...   ...   ...              ...                     ...   \n",
    "68       0.12   96.0  89.0  21.0             35.2                    21.7   \n",
    "82       0.11   94.0  87.0  21.0             24.8                    20.3   \n",
    "8        0.11   94.0  87.0  21.0             24.7                    22.0   \n",
    "65       0.11  101.0  94.0  23.0             33.4                    23.4   \n",
    "98       0.11   94.0  87.0  21.0             23.6                    20.3   \n",
    "\n",
    "     23SoilpH  1LightLow  hour  \n",
    "111       7.5       3.10   4.0  \n",
    "96        8.1       7.50   4.0  \n",
    "48        6.9      58.55   2.0  \n",
    "102       7.5       9.20   4.0  \n",
    "76        7.2       5.79   6.0  \n",
    "..        ...        ...   ...  \n",
    "68        6.4       0.79   3.0  \n",
    "82        7.1       3.71   3.0  \n",
    "8         7.6      10.10   1.0  \n",
    "65        8.0       0.65   3.0  \n",
    "98        7.2       6.79   4.0 "
   ]
  },
  {
   "cell_type": "code",
   "execution_count": null,
   "metadata": {},
   "outputs": [],
   "source": [
    "dt_param_grid = {\n",
    "    'max_depth': [None, 10, 20, 30],\n",
    "    'min_samples_split': [2, 10, 20]\n",
    "}\n",
    "dt_grid_search = GridSearchCV(DecisionTreeRegressor(), dt_param_grid, cv=5, scoring='neg_mean_absolute_error')\n",
    "dt_grid_search.fit(X_train, y_train)\n",
    "dt_best = dt_grid_search.best_estimator_\n",
    "dt_predictions = dt_best.predict(X_test)\n",
    "dt_mae = mean_absolute_error(y_test, dt_predictions)\n",
    "# print(f'Decision Tree MSE: {dt_mae}, Best Params: {dt_grid_search.best_params_}')\n",
    "print(dt_mae)"
   ]
  }
 ],
 "metadata": {
  "language_info": {
   "name": "python"
  }
 },
 "nbformat": 4,
 "nbformat_minor": 2
}
